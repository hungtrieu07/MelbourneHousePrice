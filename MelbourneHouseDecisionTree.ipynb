{
  "nbformat": 4,
  "nbformat_minor": 0,
  "metadata": {
    "colab": {
      "name": "MelbourneHouseDecisionTree.ipynb",
      "provenance": [],
      "collapsed_sections": []
    },
    "interpreter": {
      "hash": "83a76c7223609e10dea639ab1ee2c3b578042955ae617dae844f1db71cb74108"
    },
    "kernelspec": {
      "display_name": "Python 3",
      "language": "python",
      "name": "python3"
    },
    "language_info": {
      "codemirror_mode": {
        "name": "ipython",
        "version": 3
      },
      "file_extension": ".py",
      "mimetype": "text/x-python",
      "name": "python",
      "nbconvert_exporter": "python",
      "pygments_lexer": "ipython3",
      "version": "3.8.8"
    }
  },
  "cells": [
    {
      "cell_type": "code",
      "metadata": {
        "id": "osTOB7VLySI1",
        "scrolled": true
      },
      "source": [
        "import pandas as pd\n",
        "import numpy as np\n",
        "import seaborn as sns\n",
        "import matplotlib.pyplot as plt\n",
        "from sklearn.preprocessing import MinMaxScaler\n",
        "from sklearn.model_selection import train_test_split"
      ],
      "execution_count": null,
      "outputs": []
    },
    {
      "cell_type": "code",
      "metadata": {
        "id": "f_UwtQYmzojM"
      },
      "source": [
        "import os\n",
        "from six.moves import urllib\n",
        "\n",
        "DOWNLOAD_ROOT = \"https://raw.githubusercontent.com/hungtrieu07/MelbourneHousePrice/master/\"\n",
        "DATA_PATH = os.path.join(\"data\")\n",
        "DOWNLOAD_URL = DOWNLOAD_ROOT + \"Melbourne_housing_FULL.csv\"\n",
        "\n",
        "def fetch_data(download_url=DOWNLOAD_URL, data_path=DATA_PATH):\n",
        "  if not os.path.isdir(data_path):\n",
        "    os.makedirs(data_path)\n",
        "  data_path = os.path.join(data_path, \"Melbourne_housing_FULL.csv\")\n",
        "  urllib.request.urlretrieve(download_url, data_path)"
      ],
      "execution_count": null,
      "outputs": []
    },
    {
      "cell_type": "code",
      "metadata": {
        "id": "uWC8QuuIzpdG"
      },
      "source": [
        "fetch_data()"
      ],
      "execution_count": null,
      "outputs": []
    },
    {
      "cell_type": "code",
      "metadata": {
        "colab": {
          "base_uri": "https://localhost:8080/",
          "height": 643
        },
        "id": "qgrk5QbCySI6",
        "outputId": "ca637abb-6792-4898-ddff-5a4781da73b4"
      },
      "source": [
        "df = pd.read_csv(\"/content/data/Melbourne_housing_FULL.csv\")\n",
        "df"
      ],
      "execution_count": null,
      "outputs": [
        {
          "output_type": "execute_result",
          "data": {
            "text/html": [
              "<div>\n",
              "<style scoped>\n",
              "    .dataframe tbody tr th:only-of-type {\n",
              "        vertical-align: middle;\n",
              "    }\n",
              "\n",
              "    .dataframe tbody tr th {\n",
              "        vertical-align: top;\n",
              "    }\n",
              "\n",
              "    .dataframe thead th {\n",
              "        text-align: right;\n",
              "    }\n",
              "</style>\n",
              "<table border=\"1\" class=\"dataframe\">\n",
              "  <thead>\n",
              "    <tr style=\"text-align: right;\">\n",
              "      <th></th>\n",
              "      <th>Suburb</th>\n",
              "      <th>Address</th>\n",
              "      <th>Rooms</th>\n",
              "      <th>Type</th>\n",
              "      <th>Price</th>\n",
              "      <th>Method</th>\n",
              "      <th>SellerG</th>\n",
              "      <th>Date</th>\n",
              "      <th>Distance</th>\n",
              "      <th>Postcode</th>\n",
              "      <th>Bedroom2</th>\n",
              "      <th>Bathroom</th>\n",
              "      <th>Car</th>\n",
              "      <th>Landsize</th>\n",
              "      <th>BuildingArea</th>\n",
              "      <th>YearBuilt</th>\n",
              "      <th>CouncilArea</th>\n",
              "      <th>Lattitude</th>\n",
              "      <th>Longtitude</th>\n",
              "      <th>Regionname</th>\n",
              "      <th>Propertycount</th>\n",
              "    </tr>\n",
              "  </thead>\n",
              "  <tbody>\n",
              "    <tr>\n",
              "      <th>0</th>\n",
              "      <td>Abbotsford</td>\n",
              "      <td>68 Studley St</td>\n",
              "      <td>2</td>\n",
              "      <td>h</td>\n",
              "      <td>NaN</td>\n",
              "      <td>SS</td>\n",
              "      <td>Jellis</td>\n",
              "      <td>3/09/2016</td>\n",
              "      <td>2.5</td>\n",
              "      <td>3067.0</td>\n",
              "      <td>2.0</td>\n",
              "      <td>1.0</td>\n",
              "      <td>1.0</td>\n",
              "      <td>126.0</td>\n",
              "      <td>NaN</td>\n",
              "      <td>NaN</td>\n",
              "      <td>Yarra City Council</td>\n",
              "      <td>-37.80140</td>\n",
              "      <td>144.99580</td>\n",
              "      <td>Northern Metropolitan</td>\n",
              "      <td>4019.0</td>\n",
              "    </tr>\n",
              "    <tr>\n",
              "      <th>1</th>\n",
              "      <td>Abbotsford</td>\n",
              "      <td>85 Turner St</td>\n",
              "      <td>2</td>\n",
              "      <td>h</td>\n",
              "      <td>1480000.0</td>\n",
              "      <td>S</td>\n",
              "      <td>Biggin</td>\n",
              "      <td>3/12/2016</td>\n",
              "      <td>2.5</td>\n",
              "      <td>3067.0</td>\n",
              "      <td>2.0</td>\n",
              "      <td>1.0</td>\n",
              "      <td>1.0</td>\n",
              "      <td>202.0</td>\n",
              "      <td>NaN</td>\n",
              "      <td>NaN</td>\n",
              "      <td>Yarra City Council</td>\n",
              "      <td>-37.79960</td>\n",
              "      <td>144.99840</td>\n",
              "      <td>Northern Metropolitan</td>\n",
              "      <td>4019.0</td>\n",
              "    </tr>\n",
              "    <tr>\n",
              "      <th>2</th>\n",
              "      <td>Abbotsford</td>\n",
              "      <td>25 Bloomburg St</td>\n",
              "      <td>2</td>\n",
              "      <td>h</td>\n",
              "      <td>1035000.0</td>\n",
              "      <td>S</td>\n",
              "      <td>Biggin</td>\n",
              "      <td>4/02/2016</td>\n",
              "      <td>2.5</td>\n",
              "      <td>3067.0</td>\n",
              "      <td>2.0</td>\n",
              "      <td>1.0</td>\n",
              "      <td>0.0</td>\n",
              "      <td>156.0</td>\n",
              "      <td>79.0</td>\n",
              "      <td>1900.0</td>\n",
              "      <td>Yarra City Council</td>\n",
              "      <td>-37.80790</td>\n",
              "      <td>144.99340</td>\n",
              "      <td>Northern Metropolitan</td>\n",
              "      <td>4019.0</td>\n",
              "    </tr>\n",
              "    <tr>\n",
              "      <th>3</th>\n",
              "      <td>Abbotsford</td>\n",
              "      <td>18/659 Victoria St</td>\n",
              "      <td>3</td>\n",
              "      <td>u</td>\n",
              "      <td>NaN</td>\n",
              "      <td>VB</td>\n",
              "      <td>Rounds</td>\n",
              "      <td>4/02/2016</td>\n",
              "      <td>2.5</td>\n",
              "      <td>3067.0</td>\n",
              "      <td>3.0</td>\n",
              "      <td>2.0</td>\n",
              "      <td>1.0</td>\n",
              "      <td>0.0</td>\n",
              "      <td>NaN</td>\n",
              "      <td>NaN</td>\n",
              "      <td>Yarra City Council</td>\n",
              "      <td>-37.81140</td>\n",
              "      <td>145.01160</td>\n",
              "      <td>Northern Metropolitan</td>\n",
              "      <td>4019.0</td>\n",
              "    </tr>\n",
              "    <tr>\n",
              "      <th>4</th>\n",
              "      <td>Abbotsford</td>\n",
              "      <td>5 Charles St</td>\n",
              "      <td>3</td>\n",
              "      <td>h</td>\n",
              "      <td>1465000.0</td>\n",
              "      <td>SP</td>\n",
              "      <td>Biggin</td>\n",
              "      <td>4/03/2017</td>\n",
              "      <td>2.5</td>\n",
              "      <td>3067.0</td>\n",
              "      <td>3.0</td>\n",
              "      <td>2.0</td>\n",
              "      <td>0.0</td>\n",
              "      <td>134.0</td>\n",
              "      <td>150.0</td>\n",
              "      <td>1900.0</td>\n",
              "      <td>Yarra City Council</td>\n",
              "      <td>-37.80930</td>\n",
              "      <td>144.99440</td>\n",
              "      <td>Northern Metropolitan</td>\n",
              "      <td>4019.0</td>\n",
              "    </tr>\n",
              "    <tr>\n",
              "      <th>...</th>\n",
              "      <td>...</td>\n",
              "      <td>...</td>\n",
              "      <td>...</td>\n",
              "      <td>...</td>\n",
              "      <td>...</td>\n",
              "      <td>...</td>\n",
              "      <td>...</td>\n",
              "      <td>...</td>\n",
              "      <td>...</td>\n",
              "      <td>...</td>\n",
              "      <td>...</td>\n",
              "      <td>...</td>\n",
              "      <td>...</td>\n",
              "      <td>...</td>\n",
              "      <td>...</td>\n",
              "      <td>...</td>\n",
              "      <td>...</td>\n",
              "      <td>...</td>\n",
              "      <td>...</td>\n",
              "      <td>...</td>\n",
              "      <td>...</td>\n",
              "    </tr>\n",
              "    <tr>\n",
              "      <th>34852</th>\n",
              "      <td>Yarraville</td>\n",
              "      <td>13 Burns St</td>\n",
              "      <td>4</td>\n",
              "      <td>h</td>\n",
              "      <td>1480000.0</td>\n",
              "      <td>PI</td>\n",
              "      <td>Jas</td>\n",
              "      <td>24/02/2018</td>\n",
              "      <td>6.3</td>\n",
              "      <td>3013.0</td>\n",
              "      <td>4.0</td>\n",
              "      <td>1.0</td>\n",
              "      <td>3.0</td>\n",
              "      <td>593.0</td>\n",
              "      <td>NaN</td>\n",
              "      <td>NaN</td>\n",
              "      <td>Maribyrnong City Council</td>\n",
              "      <td>-37.81053</td>\n",
              "      <td>144.88467</td>\n",
              "      <td>Western Metropolitan</td>\n",
              "      <td>6543.0</td>\n",
              "    </tr>\n",
              "    <tr>\n",
              "      <th>34853</th>\n",
              "      <td>Yarraville</td>\n",
              "      <td>29A Murray St</td>\n",
              "      <td>2</td>\n",
              "      <td>h</td>\n",
              "      <td>888000.0</td>\n",
              "      <td>SP</td>\n",
              "      <td>Sweeney</td>\n",
              "      <td>24/02/2018</td>\n",
              "      <td>6.3</td>\n",
              "      <td>3013.0</td>\n",
              "      <td>2.0</td>\n",
              "      <td>2.0</td>\n",
              "      <td>1.0</td>\n",
              "      <td>98.0</td>\n",
              "      <td>104.0</td>\n",
              "      <td>2018.0</td>\n",
              "      <td>Maribyrnong City Council</td>\n",
              "      <td>-37.81551</td>\n",
              "      <td>144.88826</td>\n",
              "      <td>Western Metropolitan</td>\n",
              "      <td>6543.0</td>\n",
              "    </tr>\n",
              "    <tr>\n",
              "      <th>34854</th>\n",
              "      <td>Yarraville</td>\n",
              "      <td>147A Severn St</td>\n",
              "      <td>2</td>\n",
              "      <td>t</td>\n",
              "      <td>705000.0</td>\n",
              "      <td>S</td>\n",
              "      <td>Jas</td>\n",
              "      <td>24/02/2018</td>\n",
              "      <td>6.3</td>\n",
              "      <td>3013.0</td>\n",
              "      <td>2.0</td>\n",
              "      <td>1.0</td>\n",
              "      <td>2.0</td>\n",
              "      <td>220.0</td>\n",
              "      <td>120.0</td>\n",
              "      <td>2000.0</td>\n",
              "      <td>Maribyrnong City Council</td>\n",
              "      <td>-37.82286</td>\n",
              "      <td>144.87856</td>\n",
              "      <td>Western Metropolitan</td>\n",
              "      <td>6543.0</td>\n",
              "    </tr>\n",
              "    <tr>\n",
              "      <th>34855</th>\n",
              "      <td>Yarraville</td>\n",
              "      <td>12/37 Stephen St</td>\n",
              "      <td>3</td>\n",
              "      <td>h</td>\n",
              "      <td>1140000.0</td>\n",
              "      <td>SP</td>\n",
              "      <td>hockingstuart</td>\n",
              "      <td>24/02/2018</td>\n",
              "      <td>6.3</td>\n",
              "      <td>3013.0</td>\n",
              "      <td>NaN</td>\n",
              "      <td>NaN</td>\n",
              "      <td>NaN</td>\n",
              "      <td>NaN</td>\n",
              "      <td>NaN</td>\n",
              "      <td>NaN</td>\n",
              "      <td>Maribyrnong City Council</td>\n",
              "      <td>NaN</td>\n",
              "      <td>NaN</td>\n",
              "      <td>Western Metropolitan</td>\n",
              "      <td>6543.0</td>\n",
              "    </tr>\n",
              "    <tr>\n",
              "      <th>34856</th>\n",
              "      <td>Yarraville</td>\n",
              "      <td>3 Tarrengower St</td>\n",
              "      <td>2</td>\n",
              "      <td>h</td>\n",
              "      <td>1020000.0</td>\n",
              "      <td>PI</td>\n",
              "      <td>RW</td>\n",
              "      <td>24/02/2018</td>\n",
              "      <td>6.3</td>\n",
              "      <td>3013.0</td>\n",
              "      <td>2.0</td>\n",
              "      <td>1.0</td>\n",
              "      <td>0.0</td>\n",
              "      <td>250.0</td>\n",
              "      <td>103.0</td>\n",
              "      <td>1930.0</td>\n",
              "      <td>Maribyrnong City Council</td>\n",
              "      <td>-37.81810</td>\n",
              "      <td>144.89351</td>\n",
              "      <td>Western Metropolitan</td>\n",
              "      <td>6543.0</td>\n",
              "    </tr>\n",
              "  </tbody>\n",
              "</table>\n",
              "<p>34857 rows × 21 columns</p>\n",
              "</div>"
            ],
            "text/plain": [
              "           Suburb             Address  ...             Regionname Propertycount\n",
              "0      Abbotsford       68 Studley St  ...  Northern Metropolitan        4019.0\n",
              "1      Abbotsford        85 Turner St  ...  Northern Metropolitan        4019.0\n",
              "2      Abbotsford     25 Bloomburg St  ...  Northern Metropolitan        4019.0\n",
              "3      Abbotsford  18/659 Victoria St  ...  Northern Metropolitan        4019.0\n",
              "4      Abbotsford        5 Charles St  ...  Northern Metropolitan        4019.0\n",
              "...           ...                 ...  ...                    ...           ...\n",
              "34852  Yarraville         13 Burns St  ...   Western Metropolitan        6543.0\n",
              "34853  Yarraville       29A Murray St  ...   Western Metropolitan        6543.0\n",
              "34854  Yarraville      147A Severn St  ...   Western Metropolitan        6543.0\n",
              "34855  Yarraville    12/37 Stephen St  ...   Western Metropolitan        6543.0\n",
              "34856  Yarraville    3 Tarrengower St  ...   Western Metropolitan        6543.0\n",
              "\n",
              "[34857 rows x 21 columns]"
            ]
          },
          "metadata": {},
          "execution_count": 4
        }
      ]
    },
    {
      "cell_type": "code",
      "metadata": {
        "colab": {
          "base_uri": "https://localhost:8080/"
        },
        "id": "ffFVjUFCySI8",
        "outputId": "edfebcc1-7329-42aa-e186-9f0052ec8c42"
      },
      "source": [
        "df.shape"
      ],
      "execution_count": null,
      "outputs": [
        {
          "output_type": "execute_result",
          "data": {
            "text/plain": [
              "(34857, 21)"
            ]
          },
          "metadata": {},
          "execution_count": 5
        }
      ]
    },
    {
      "cell_type": "code",
      "metadata": {
        "colab": {
          "base_uri": "https://localhost:8080/"
        },
        "id": "v7h5Ha_GySI_",
        "outputId": "5a732fc2-9d9b-4854-b1c4-ae64f37bfb95"
      },
      "source": [
        "df.info()"
      ],
      "execution_count": null,
      "outputs": [
        {
          "output_type": "stream",
          "name": "stdout",
          "text": [
            "<class 'pandas.core.frame.DataFrame'>\n",
            "RangeIndex: 34857 entries, 0 to 34856\n",
            "Data columns (total 21 columns):\n",
            " #   Column         Non-Null Count  Dtype  \n",
            "---  ------         --------------  -----  \n",
            " 0   Suburb         34857 non-null  object \n",
            " 1   Address        34857 non-null  object \n",
            " 2   Rooms          34857 non-null  int64  \n",
            " 3   Type           34857 non-null  object \n",
            " 4   Price          27247 non-null  float64\n",
            " 5   Method         34857 non-null  object \n",
            " 6   SellerG        34857 non-null  object \n",
            " 7   Date           34857 non-null  object \n",
            " 8   Distance       34856 non-null  float64\n",
            " 9   Postcode       34856 non-null  float64\n",
            " 10  Bedroom2       26640 non-null  float64\n",
            " 11  Bathroom       26631 non-null  float64\n",
            " 12  Car            26129 non-null  float64\n",
            " 13  Landsize       23047 non-null  float64\n",
            " 14  BuildingArea   13742 non-null  float64\n",
            " 15  YearBuilt      15551 non-null  float64\n",
            " 16  CouncilArea    34854 non-null  object \n",
            " 17  Lattitude      26881 non-null  float64\n",
            " 18  Longtitude     26881 non-null  float64\n",
            " 19  Regionname     34854 non-null  object \n",
            " 20  Propertycount  34854 non-null  float64\n",
            "dtypes: float64(12), int64(1), object(8)\n",
            "memory usage: 5.6+ MB\n"
          ]
        }
      ]
    },
    {
      "cell_type": "code",
      "metadata": {
        "colab": {
          "base_uri": "https://localhost:8080/",
          "height": 317
        },
        "id": "5EXNMVGOySI_",
        "outputId": "4b3ce9d7-8886-4afa-c229-5b6026a10744"
      },
      "source": [
        "df.describe()"
      ],
      "execution_count": null,
      "outputs": [
        {
          "output_type": "execute_result",
          "data": {
            "text/html": [
              "<div>\n",
              "<style scoped>\n",
              "    .dataframe tbody tr th:only-of-type {\n",
              "        vertical-align: middle;\n",
              "    }\n",
              "\n",
              "    .dataframe tbody tr th {\n",
              "        vertical-align: top;\n",
              "    }\n",
              "\n",
              "    .dataframe thead th {\n",
              "        text-align: right;\n",
              "    }\n",
              "</style>\n",
              "<table border=\"1\" class=\"dataframe\">\n",
              "  <thead>\n",
              "    <tr style=\"text-align: right;\">\n",
              "      <th></th>\n",
              "      <th>Rooms</th>\n",
              "      <th>Price</th>\n",
              "      <th>Distance</th>\n",
              "      <th>Postcode</th>\n",
              "      <th>Bedroom2</th>\n",
              "      <th>Bathroom</th>\n",
              "      <th>Car</th>\n",
              "      <th>Landsize</th>\n",
              "      <th>BuildingArea</th>\n",
              "      <th>YearBuilt</th>\n",
              "      <th>Lattitude</th>\n",
              "      <th>Longtitude</th>\n",
              "      <th>Propertycount</th>\n",
              "    </tr>\n",
              "  </thead>\n",
              "  <tbody>\n",
              "    <tr>\n",
              "      <th>count</th>\n",
              "      <td>34857.000000</td>\n",
              "      <td>2.724700e+04</td>\n",
              "      <td>34856.000000</td>\n",
              "      <td>34856.000000</td>\n",
              "      <td>26640.000000</td>\n",
              "      <td>26631.000000</td>\n",
              "      <td>26129.000000</td>\n",
              "      <td>23047.000000</td>\n",
              "      <td>13742.00000</td>\n",
              "      <td>15551.000000</td>\n",
              "      <td>26881.000000</td>\n",
              "      <td>26881.000000</td>\n",
              "      <td>34854.000000</td>\n",
              "    </tr>\n",
              "    <tr>\n",
              "      <th>mean</th>\n",
              "      <td>3.031012</td>\n",
              "      <td>1.050173e+06</td>\n",
              "      <td>11.184929</td>\n",
              "      <td>3116.062859</td>\n",
              "      <td>3.084647</td>\n",
              "      <td>1.624798</td>\n",
              "      <td>1.728845</td>\n",
              "      <td>593.598993</td>\n",
              "      <td>160.25640</td>\n",
              "      <td>1965.289885</td>\n",
              "      <td>-37.810634</td>\n",
              "      <td>145.001851</td>\n",
              "      <td>7572.888306</td>\n",
              "    </tr>\n",
              "    <tr>\n",
              "      <th>std</th>\n",
              "      <td>0.969933</td>\n",
              "      <td>6.414671e+05</td>\n",
              "      <td>6.788892</td>\n",
              "      <td>109.023903</td>\n",
              "      <td>0.980690</td>\n",
              "      <td>0.724212</td>\n",
              "      <td>1.010771</td>\n",
              "      <td>3398.841946</td>\n",
              "      <td>401.26706</td>\n",
              "      <td>37.328178</td>\n",
              "      <td>0.090279</td>\n",
              "      <td>0.120169</td>\n",
              "      <td>4428.090313</td>\n",
              "    </tr>\n",
              "    <tr>\n",
              "      <th>min</th>\n",
              "      <td>1.000000</td>\n",
              "      <td>8.500000e+04</td>\n",
              "      <td>0.000000</td>\n",
              "      <td>3000.000000</td>\n",
              "      <td>0.000000</td>\n",
              "      <td>0.000000</td>\n",
              "      <td>0.000000</td>\n",
              "      <td>0.000000</td>\n",
              "      <td>0.00000</td>\n",
              "      <td>1196.000000</td>\n",
              "      <td>-38.190430</td>\n",
              "      <td>144.423790</td>\n",
              "      <td>83.000000</td>\n",
              "    </tr>\n",
              "    <tr>\n",
              "      <th>25%</th>\n",
              "      <td>2.000000</td>\n",
              "      <td>6.350000e+05</td>\n",
              "      <td>6.400000</td>\n",
              "      <td>3051.000000</td>\n",
              "      <td>2.000000</td>\n",
              "      <td>1.000000</td>\n",
              "      <td>1.000000</td>\n",
              "      <td>224.000000</td>\n",
              "      <td>102.00000</td>\n",
              "      <td>1940.000000</td>\n",
              "      <td>-37.862950</td>\n",
              "      <td>144.933500</td>\n",
              "      <td>4385.000000</td>\n",
              "    </tr>\n",
              "    <tr>\n",
              "      <th>50%</th>\n",
              "      <td>3.000000</td>\n",
              "      <td>8.700000e+05</td>\n",
              "      <td>10.300000</td>\n",
              "      <td>3103.000000</td>\n",
              "      <td>3.000000</td>\n",
              "      <td>2.000000</td>\n",
              "      <td>2.000000</td>\n",
              "      <td>521.000000</td>\n",
              "      <td>136.00000</td>\n",
              "      <td>1970.000000</td>\n",
              "      <td>-37.807600</td>\n",
              "      <td>145.007800</td>\n",
              "      <td>6763.000000</td>\n",
              "    </tr>\n",
              "    <tr>\n",
              "      <th>75%</th>\n",
              "      <td>4.000000</td>\n",
              "      <td>1.295000e+06</td>\n",
              "      <td>14.000000</td>\n",
              "      <td>3156.000000</td>\n",
              "      <td>4.000000</td>\n",
              "      <td>2.000000</td>\n",
              "      <td>2.000000</td>\n",
              "      <td>670.000000</td>\n",
              "      <td>188.00000</td>\n",
              "      <td>2000.000000</td>\n",
              "      <td>-37.754100</td>\n",
              "      <td>145.071900</td>\n",
              "      <td>10412.000000</td>\n",
              "    </tr>\n",
              "    <tr>\n",
              "      <th>max</th>\n",
              "      <td>16.000000</td>\n",
              "      <td>1.120000e+07</td>\n",
              "      <td>48.100000</td>\n",
              "      <td>3978.000000</td>\n",
              "      <td>30.000000</td>\n",
              "      <td>12.000000</td>\n",
              "      <td>26.000000</td>\n",
              "      <td>433014.000000</td>\n",
              "      <td>44515.00000</td>\n",
              "      <td>2106.000000</td>\n",
              "      <td>-37.390200</td>\n",
              "      <td>145.526350</td>\n",
              "      <td>21650.000000</td>\n",
              "    </tr>\n",
              "  </tbody>\n",
              "</table>\n",
              "</div>"
            ],
            "text/plain": [
              "              Rooms         Price  ...    Longtitude  Propertycount\n",
              "count  34857.000000  2.724700e+04  ...  26881.000000   34854.000000\n",
              "mean       3.031012  1.050173e+06  ...    145.001851    7572.888306\n",
              "std        0.969933  6.414671e+05  ...      0.120169    4428.090313\n",
              "min        1.000000  8.500000e+04  ...    144.423790      83.000000\n",
              "25%        2.000000  6.350000e+05  ...    144.933500    4385.000000\n",
              "50%        3.000000  8.700000e+05  ...    145.007800    6763.000000\n",
              "75%        4.000000  1.295000e+06  ...    145.071900   10412.000000\n",
              "max       16.000000  1.120000e+07  ...    145.526350   21650.000000\n",
              "\n",
              "[8 rows x 13 columns]"
            ]
          },
          "metadata": {},
          "execution_count": 7
        }
      ]
    },
    {
      "cell_type": "code",
      "metadata": {
        "colab": {
          "base_uri": "https://localhost:8080/"
        },
        "id": "1H32bCU1ySJA",
        "outputId": "c0a71b45-de67-4760-d3d0-7f98c35a7fc7"
      },
      "source": [
        "df.isnull().sum()"
      ],
      "execution_count": null,
      "outputs": [
        {
          "output_type": "execute_result",
          "data": {
            "text/plain": [
              "Suburb               0\n",
              "Address              0\n",
              "Rooms                0\n",
              "Type                 0\n",
              "Price             7610\n",
              "Method               0\n",
              "SellerG              0\n",
              "Date                 0\n",
              "Distance             1\n",
              "Postcode             1\n",
              "Bedroom2          8217\n",
              "Bathroom          8226\n",
              "Car               8728\n",
              "Landsize         11810\n",
              "BuildingArea     21115\n",
              "YearBuilt        19306\n",
              "CouncilArea          3\n",
              "Lattitude         7976\n",
              "Longtitude        7976\n",
              "Regionname           3\n",
              "Propertycount        3\n",
              "dtype: int64"
            ]
          },
          "metadata": {},
          "execution_count": 8
        }
      ]
    },
    {
      "cell_type": "code",
      "metadata": {
        "colab": {
          "base_uri": "https://localhost:8080/"
        },
        "id": "WVr7Ov66Kf5Y",
        "outputId": "76fba2aa-ee85-45d7-e148-2b5994d67a8b"
      },
      "source": [
        "print(df.corr())"
      ],
      "execution_count": null,
      "outputs": [
        {
          "output_type": "stream",
          "name": "stdout",
          "text": [
            "                  Rooms     Price  ...  Longtitude  Propertycount\n",
            "Rooms          1.000000  0.465238  ...    0.103235      -0.071677\n",
            "Price          0.465238  1.000000  ...    0.197874      -0.059017\n",
            "Distance       0.271511 -0.211384  ...    0.200946      -0.018140\n",
            "Postcode       0.085890  0.044950  ...    0.362895       0.017108\n",
            "Bedroom2       0.946755  0.430275  ...    0.106164      -0.053451\n",
            "Bathroom       0.611826  0.429878  ...    0.106531      -0.032887\n",
            "Car            0.393878  0.201803  ...    0.047213      -0.009617\n",
            "Landsize       0.037402  0.032748  ...   -0.002582      -0.018195\n",
            "BuildingArea   0.156229  0.100754  ...   -0.002143      -0.024523\n",
            "YearBuilt     -0.012749 -0.333306  ...   -0.022175       0.022420\n",
            "Lattitude      0.004872 -0.215607  ...   -0.345589       0.011112\n",
            "Longtitude     0.103235  0.197874  ...    1.000000       0.016326\n",
            "Propertycount -0.071677 -0.059017  ...    0.016326       1.000000\n",
            "\n",
            "[13 rows x 13 columns]\n"
          ]
        }
      ]
    },
    {
      "cell_type": "code",
      "metadata": {
        "colab": {
          "base_uri": "https://localhost:8080/",
          "height": 329
        },
        "id": "iFKRYvBIKhnt",
        "outputId": "e37e88cb-a166-40d7-88b8-44f72670b435"
      },
      "source": [
        "corr_matrix = sns.heatmap(df.corr(), annot=True)"
      ],
      "execution_count": null,
      "outputs": [
        {
          "output_type": "display_data",
          "data": {
            "image/png": "[encoded data removed]",
            "text/plain": [
              "<Figure size 432x288 with 2 Axes>"
            ]
          },
          "metadata": {
            "needs_background": "light"
          }
        }
      ]
    },
    {
      "cell_type": "code",
      "metadata": {
        "colab": {
          "base_uri": "https://localhost:8080/"
        },
        "id": "JfTKWV_lySJB",
        "outputId": "2c1d7fec-6986-4f02-8792-6efbbc471299"
      },
      "source": [
        "df[\"YearBuilt\"].value_counts().sort_index()"
      ],
      "execution_count": null,
      "outputs": [
        {
          "output_type": "execute_result",
          "data": {
            "text/plain": [
              "1196.0      1\n",
              "1800.0      1\n",
              "1820.0      1\n",
              "1830.0      1\n",
              "1850.0      4\n",
              "         ... \n",
              "2016.0    130\n",
              "2017.0     82\n",
              "2018.0      4\n",
              "2019.0      1\n",
              "2106.0      1\n",
              "Name: YearBuilt, Length: 160, dtype: int64"
            ]
          },
          "metadata": {},
          "execution_count": 11
        }
      ]
    },
    {
      "cell_type": "code",
      "metadata": {
        "id": "4Kuan5lWySJD"
      },
      "source": [
        "df[\"YearBuilt\"].replace(1196, 1996, inplace=True)"
      ],
      "execution_count": null,
      "outputs": []
    },
    {
      "cell_type": "code",
      "metadata": {
        "id": "Do2btNydySJE"
      },
      "source": [
        "df[\"YearBuilt\"].replace(2106, 2016, inplace=True)"
      ],
      "execution_count": null,
      "outputs": []
    },
    {
      "cell_type": "code",
      "metadata": {
        "colab": {
          "base_uri": "https://localhost:8080/"
        },
        "id": "Oscn0JwjySJF",
        "outputId": "d524e207-2b8a-485f-cd9c-f60ad7abb28d"
      },
      "source": [
        "df[\"YearBuilt\"].value_counts().sort_index()"
      ],
      "execution_count": null,
      "outputs": [
        {
          "output_type": "execute_result",
          "data": {
            "text/plain": [
              "1800.0      1\n",
              "1820.0      1\n",
              "1830.0      1\n",
              "1850.0      4\n",
              "1854.0      2\n",
              "         ... \n",
              "2015.0    156\n",
              "2016.0    131\n",
              "2017.0     82\n",
              "2018.0      4\n",
              "2019.0      1\n",
              "Name: YearBuilt, Length: 158, dtype: int64"
            ]
          },
          "metadata": {},
          "execution_count": 14
        }
      ]
    },
    {
      "cell_type": "code",
      "metadata": {
        "id": "SwQfYmoHySJF"
      },
      "source": [
        ""
      ],
      "execution_count": null,
      "outputs": []
    },
    {
      "cell_type": "code",
      "metadata": {
        "colab": {
          "base_uri": "https://localhost:8080/"
        },
        "id": "APpBz04jySJF",
        "outputId": "02082368-862e-4250-a520-f6ab5dac66e1"
      },
      "source": [
        "df.isnull().sum()"
      ],
      "execution_count": null,
      "outputs": [
        {
          "output_type": "execute_result",
          "data": {
            "text/plain": [
              "Suburb               0\n",
              "Address              0\n",
              "Rooms                0\n",
              "Type                 0\n",
              "Price             7610\n",
              "Method               0\n",
              "SellerG              0\n",
              "Date                 0\n",
              "Distance             1\n",
              "Postcode             1\n",
              "Bedroom2          8217\n",
              "Bathroom          8226\n",
              "Car               8728\n",
              "Landsize         11810\n",
              "BuildingArea     21115\n",
              "YearBuilt        19306\n",
              "CouncilArea          3\n",
              "Lattitude         7976\n",
              "Longtitude        7976\n",
              "Regionname           3\n",
              "Propertycount        3\n",
              "dtype: int64"
            ]
          },
          "metadata": {},
          "execution_count": 15
        }
      ]
    },
    {
      "cell_type": "code",
      "metadata": {
        "id": "t4MzyvQeySJG"
      },
      "source": [
        "import re\n",
        "def extract_street(str):\n",
        "    return re.sub('[^A-Za-z]+', '', str)"
      ],
      "execution_count": null,
      "outputs": []
    },
    {
      "cell_type": "code",
      "metadata": {
        "id": "uEbSk7UBySJH"
      },
      "source": [
        "df[\"Address\"] = df.Address.apply(extract_street)"
      ],
      "execution_count": null,
      "outputs": []
    },
    {
      "cell_type": "code",
      "metadata": {
        "colab": {
          "base_uri": "https://localhost:8080/"
        },
        "id": "79JtIIY_ySJI",
        "outputId": "0016e87e-8ca9-4791-c455-3111397fe4f8"
      },
      "source": [
        "df[\"Address\"].value_counts()"
      ],
      "execution_count": null,
      "outputs": [
        {
          "output_type": "execute_result",
          "data": {
            "text/plain": [
              "BarklySt        146\n",
              "HighSt          123\n",
              "ToorakRd         93\n",
              "DandenongRd      88\n",
              "VictoriaSt       79\n",
              "               ... \n",
              "aGladstoneAv      1\n",
              "WunnamurraDr      1\n",
              "FinhavenCt        1\n",
              "WexfordCt         1\n",
              "StradaCr          1\n",
              "Name: Address, Length: 12164, dtype: int64"
            ]
          },
          "metadata": {},
          "execution_count": 18
        }
      ]
    },
    {
      "cell_type": "code",
      "metadata": {
        "colab": {
          "base_uri": "https://localhost:8080/",
          "height": 309
        },
        "id": "CxE_sbMdySJI",
        "outputId": "e2f09c54-1120-4bba-8e9a-ce21c4186683"
      },
      "source": [
        "df.head()"
      ],
      "execution_count": null,
      "outputs": [
        {
          "output_type": "execute_result",
          "data": {
            "text/html": [
              "<div>\n",
              "<style scoped>\n",
              "    .dataframe tbody tr th:only-of-type {\n",
              "        vertical-align: middle;\n",
              "    }\n",
              "\n",
              "    .dataframe tbody tr th {\n",
              "        vertical-align: top;\n",
              "    }\n",
              "\n",
              "    .dataframe thead th {\n",
              "        text-align: right;\n",
              "    }\n",
              "</style>\n",
              "<table border=\"1\" class=\"dataframe\">\n",
              "  <thead>\n",
              "    <tr style=\"text-align: right;\">\n",
              "      <th></th>\n",
              "      <th>Suburb</th>\n",
              "      <th>Address</th>\n",
              "      <th>Rooms</th>\n",
              "      <th>Type</th>\n",
              "      <th>Price</th>\n",
              "      <th>Method</th>\n",
              "      <th>SellerG</th>\n",
              "      <th>Date</th>\n",
              "      <th>Distance</th>\n",
              "      <th>Postcode</th>\n",
              "      <th>Bedroom2</th>\n",
              "      <th>Bathroom</th>\n",
              "      <th>Car</th>\n",
              "      <th>Landsize</th>\n",
              "      <th>BuildingArea</th>\n",
              "      <th>YearBuilt</th>\n",
              "      <th>CouncilArea</th>\n",
              "      <th>Lattitude</th>\n",
              "      <th>Longtitude</th>\n",
              "      <th>Regionname</th>\n",
              "      <th>Propertycount</th>\n",
              "    </tr>\n",
              "  </thead>\n",
              "  <tbody>\n",
              "    <tr>\n",
              "      <th>0</th>\n",
              "      <td>Abbotsford</td>\n",
              "      <td>StudleySt</td>\n",
              "      <td>2</td>\n",
              "      <td>h</td>\n",
              "      <td>NaN</td>\n",
              "      <td>SS</td>\n",
              "      <td>Jellis</td>\n",
              "      <td>3/09/2016</td>\n",
              "      <td>2.5</td>\n",
              "      <td>3067.0</td>\n",
              "      <td>2.0</td>\n",
              "      <td>1.0</td>\n",
              "      <td>1.0</td>\n",
              "      <td>126.0</td>\n",
              "      <td>NaN</td>\n",
              "      <td>NaN</td>\n",
              "      <td>Yarra City Council</td>\n",
              "      <td>-37.8014</td>\n",
              "      <td>144.9958</td>\n",
              "      <td>Northern Metropolitan</td>\n",
              "      <td>4019.0</td>\n",
              "    </tr>\n",
              "    <tr>\n",
              "      <th>1</th>\n",
              "      <td>Abbotsford</td>\n",
              "      <td>TurnerSt</td>\n",
              "      <td>2</td>\n",
              "      <td>h</td>\n",
              "      <td>1480000.0</td>\n",
              "      <td>S</td>\n",
              "      <td>Biggin</td>\n",
              "      <td>3/12/2016</td>\n",
              "      <td>2.5</td>\n",
              "      <td>3067.0</td>\n",
              "      <td>2.0</td>\n",
              "      <td>1.0</td>\n",
              "      <td>1.0</td>\n",
              "      <td>202.0</td>\n",
              "      <td>NaN</td>\n",
              "      <td>NaN</td>\n",
              "      <td>Yarra City Council</td>\n",
              "      <td>-37.7996</td>\n",
              "      <td>144.9984</td>\n",
              "      <td>Northern Metropolitan</td>\n",
              "      <td>4019.0</td>\n",
              "    </tr>\n",
              "    <tr>\n",
              "      <th>2</th>\n",
              "      <td>Abbotsford</td>\n",
              "      <td>BloomburgSt</td>\n",
              "      <td>2</td>\n",
              "      <td>h</td>\n",
              "      <td>1035000.0</td>\n",
              "      <td>S</td>\n",
              "      <td>Biggin</td>\n",
              "      <td>4/02/2016</td>\n",
              "      <td>2.5</td>\n",
              "      <td>3067.0</td>\n",
              "      <td>2.0</td>\n",
              "      <td>1.0</td>\n",
              "      <td>0.0</td>\n",
              "      <td>156.0</td>\n",
              "      <td>79.0</td>\n",
              "      <td>1900.0</td>\n",
              "      <td>Yarra City Council</td>\n",
              "      <td>-37.8079</td>\n",
              "      <td>144.9934</td>\n",
              "      <td>Northern Metropolitan</td>\n",
              "      <td>4019.0</td>\n",
              "    </tr>\n",
              "    <tr>\n",
              "      <th>3</th>\n",
              "      <td>Abbotsford</td>\n",
              "      <td>VictoriaSt</td>\n",
              "      <td>3</td>\n",
              "      <td>u</td>\n",
              "      <td>NaN</td>\n",
              "      <td>VB</td>\n",
              "      <td>Rounds</td>\n",
              "      <td>4/02/2016</td>\n",
              "      <td>2.5</td>\n",
              "      <td>3067.0</td>\n",
              "      <td>3.0</td>\n",
              "      <td>2.0</td>\n",
              "      <td>1.0</td>\n",
              "      <td>0.0</td>\n",
              "      <td>NaN</td>\n",
              "      <td>NaN</td>\n",
              "      <td>Yarra City Council</td>\n",
              "      <td>-37.8114</td>\n",
              "      <td>145.0116</td>\n",
              "      <td>Northern Metropolitan</td>\n",
              "      <td>4019.0</td>\n",
              "    </tr>\n",
              "    <tr>\n",
              "      <th>4</th>\n",
              "      <td>Abbotsford</td>\n",
              "      <td>CharlesSt</td>\n",
              "      <td>3</td>\n",
              "      <td>h</td>\n",
              "      <td>1465000.0</td>\n",
              "      <td>SP</td>\n",
              "      <td>Biggin</td>\n",
              "      <td>4/03/2017</td>\n",
              "      <td>2.5</td>\n",
              "      <td>3067.0</td>\n",
              "      <td>3.0</td>\n",
              "      <td>2.0</td>\n",
              "      <td>0.0</td>\n",
              "      <td>134.0</td>\n",
              "      <td>150.0</td>\n",
              "      <td>1900.0</td>\n",
              "      <td>Yarra City Council</td>\n",
              "      <td>-37.8093</td>\n",
              "      <td>144.9944</td>\n",
              "      <td>Northern Metropolitan</td>\n",
              "      <td>4019.0</td>\n",
              "    </tr>\n",
              "  </tbody>\n",
              "</table>\n",
              "</div>"
            ],
            "text/plain": [
              "       Suburb      Address  ...             Regionname Propertycount\n",
              "0  Abbotsford    StudleySt  ...  Northern Metropolitan        4019.0\n",
              "1  Abbotsford     TurnerSt  ...  Northern Metropolitan        4019.0\n",
              "2  Abbotsford  BloomburgSt  ...  Northern Metropolitan        4019.0\n",
              "3  Abbotsford   VictoriaSt  ...  Northern Metropolitan        4019.0\n",
              "4  Abbotsford    CharlesSt  ...  Northern Metropolitan        4019.0\n",
              "\n",
              "[5 rows x 21 columns]"
            ]
          },
          "metadata": {},
          "execution_count": 19
        }
      ]
    },
    {
      "cell_type": "code",
      "metadata": {
        "id": "wOzQtr2YySJJ"
      },
      "source": [
        "df[\"Date\"] = pd.to_datetime(df[\"Date\"], dayfirst=True)"
      ],
      "execution_count": null,
      "outputs": []
    },
    {
      "cell_type": "code",
      "metadata": {
        "id": "hz4V397WlUkN"
      },
      "source": [
        "df['Years'] = df['Date'].dt.year"
      ],
      "execution_count": null,
      "outputs": []
    },
    {
      "cell_type": "code",
      "metadata": {
        "id": "9Oh2toehySJK"
      },
      "source": [
        "df[\"Timestamp\"] = df[[\"Date\"]].apply(lambda x: x[0].timestamp(), axis=1).astype(int)"
      ],
      "execution_count": null,
      "outputs": []
    },
    {
      "cell_type": "code",
      "metadata": {
        "id": "1sjbWKAKySJK"
      },
      "source": [
        "df = df.drop([\"Date\"], axis=1)"
      ],
      "execution_count": null,
      "outputs": []
    },
    {
      "cell_type": "code",
      "metadata": {
        "id": "6AfreWEwkwFw"
      },
      "source": [
        "#them truong AGE\n",
        "df['Age'] = 2021 - df['YearBuilt']"
      ],
      "execution_count": null,
      "outputs": []
    },
    {
      "cell_type": "code",
      "metadata": {
        "colab": {
          "base_uri": "https://localhost:8080/",
          "height": 329
        },
        "id": "5Fztl4gzk6xv",
        "outputId": "9d3b3fa9-c4ca-47f4-e419-06245adac27e"
      },
      "source": [
        "corr_matrix = sns.heatmap(df.corr(), annot=True)"
      ],
      "execution_count": null,
      "outputs": [
        {
          "output_type": "display_data",
          "data": {
            "image/png": "[encoded data removed]",
            "text/plain": [
              "<Figure size 432x288 with 2 Axes>"
            ]
          },
          "metadata": {
            "needs_background": "light"
          }
        }
      ]
    },
    {
      "cell_type": "code",
      "metadata": {
        "colab": {
          "base_uri": "https://localhost:8080/",
          "height": 360
        },
        "id": "wHa4xqx6k9XQ",
        "outputId": "e2477142-4810-4029-d7bc-68bdfec59547"
      },
      "source": [
        "fig_dims = (20,10)\n",
        "fig, ax = plt.subplots(figsize=fig_dims)\n",
        "sns.lineplot(data=df, x='Age', y='Price')"
      ],
      "execution_count": null,
      "outputs": [
        {
          "output_type": "execute_result",
          "data": {
            "text/plain": [
              "<matplotlib.axes._subplots.AxesSubplot at 0x7f63f2307f10>"
            ]
          },
          "metadata": {},
          "execution_count": 26
        },
        {
          "output_type": "display_data",
          "data": {
            "image/png": "[encoded data removed]",
            "text/plain": [
              "<Figure size 1440x720 with 1 Axes>"
            ]
          },
          "metadata": {
            "needs_background": "light"
          }
        }
      ]
    },
    {
      "cell_type": "code",
      "metadata": {
        "id": "7yZi8w6ylIdO"
      },
      "source": [
        "df['Historic'] = pd.cut(df['Age'], bins=[0, 25, 50, 75, 100, 125, 150, 175, float('Inf')], labels=['0', '25', '50', '75', '100','125','150','175'])\n",
        "df['Historic'] = df['Historic'].astype('category')"
      ],
      "execution_count": null,
      "outputs": []
    },
    {
      "cell_type": "code",
      "metadata": {
        "colab": {
          "base_uri": "https://localhost:8080/",
          "height": 804
        },
        "id": "Z1EqfvAjlLMb",
        "outputId": "33e22ba7-081b-471b-a54d-bebec143cbc3"
      },
      "source": [
        "f, ax = plt.subplots(figsize=(16, 20))\n",
        "sns.boxplot(x = 'Historic', y = 'Price', data = df)"
      ],
      "execution_count": null,
      "outputs": [
        {
          "output_type": "execute_result",
          "data": {
            "text/plain": [
              "<matplotlib.axes._subplots.AxesSubplot at 0x7f63fc5fe350>"
            ]
          },
          "metadata": {},
          "execution_count": 28
        },
        {
          "output_type": "display_data",
          "data": {
            "image/png": "[encoded data removed]",
            "text/plain": [
              "<Figure size 1152x1440 with 1 Axes>"
            ]
          },
          "metadata": {
            "needs_background": "light"
          }
        }
      ]
    },
    {
      "cell_type": "code",
      "metadata": {
        "id": "O20kZ-QYlfKg"
      },
      "source": [
        "df = df.drop(['YearBuilt'], axis=1)"
      ],
      "execution_count": null,
      "outputs": []
    },
    {
      "cell_type": "code",
      "metadata": {
        "id": "DQ9Ptv76ljqG"
      },
      "source": [
        "df = df.drop(['Age'], axis=1)"
      ],
      "execution_count": null,
      "outputs": []
    },
    {
      "cell_type": "code",
      "metadata": {
        "id": "ZXJlguJPlmqE"
      },
      "source": [
        "df = df.drop(['Years'], axis=1)"
      ],
      "execution_count": null,
      "outputs": []
    },
    {
      "cell_type": "code",
      "metadata": {
        "colab": {
          "base_uri": "https://localhost:8080/"
        },
        "id": "1li4ewyBySJL",
        "outputId": "edf9bb5c-b881-46b4-d50a-8afe62d9f71c"
      },
      "source": [
        "df.isnull().sum()"
      ],
      "execution_count": null,
      "outputs": [
        {
          "output_type": "execute_result",
          "data": {
            "text/plain": [
              "Suburb               0\n",
              "Address              0\n",
              "Rooms                0\n",
              "Type                 0\n",
              "Price             7610\n",
              "Method               0\n",
              "SellerG              0\n",
              "Distance             1\n",
              "Postcode             1\n",
              "Bedroom2          8217\n",
              "Bathroom          8226\n",
              "Car               8728\n",
              "Landsize         11810\n",
              "BuildingArea     21115\n",
              "CouncilArea          3\n",
              "Lattitude         7976\n",
              "Longtitude        7976\n",
              "Regionname           3\n",
              "Propertycount        3\n",
              "Timestamp            0\n",
              "Historic         19306\n",
              "dtype: int64"
            ]
          },
          "metadata": {},
          "execution_count": 32
        }
      ]
    },
    {
      "cell_type": "code",
      "metadata": {
        "colab": {
          "base_uri": "https://localhost:8080/",
          "height": 190
        },
        "id": "B_gQHSS0lxua",
        "outputId": "d8e5486b-4626-4fc3-cc60-2543c8a5ce02"
      },
      "source": [
        "df.describe(include='object')"
      ],
      "execution_count": null,
      "outputs": [
        {
          "output_type": "execute_result",
          "data": {
            "text/html": [
              "<div>\n",
              "<style scoped>\n",
              "    .dataframe tbody tr th:only-of-type {\n",
              "        vertical-align: middle;\n",
              "    }\n",
              "\n",
              "    .dataframe tbody tr th {\n",
              "        vertical-align: top;\n",
              "    }\n",
              "\n",
              "    .dataframe thead th {\n",
              "        text-align: right;\n",
              "    }\n",
              "</style>\n",
              "<table border=\"1\" class=\"dataframe\">\n",
              "  <thead>\n",
              "    <tr style=\"text-align: right;\">\n",
              "      <th></th>\n",
              "      <th>Suburb</th>\n",
              "      <th>Address</th>\n",
              "      <th>Type</th>\n",
              "      <th>Method</th>\n",
              "      <th>SellerG</th>\n",
              "      <th>CouncilArea</th>\n",
              "      <th>Regionname</th>\n",
              "    </tr>\n",
              "  </thead>\n",
              "  <tbody>\n",
              "    <tr>\n",
              "      <th>count</th>\n",
              "      <td>34857</td>\n",
              "      <td>34857</td>\n",
              "      <td>34857</td>\n",
              "      <td>34857</td>\n",
              "      <td>34857</td>\n",
              "      <td>34854</td>\n",
              "      <td>34854</td>\n",
              "    </tr>\n",
              "    <tr>\n",
              "      <th>unique</th>\n",
              "      <td>351</td>\n",
              "      <td>12164</td>\n",
              "      <td>3</td>\n",
              "      <td>9</td>\n",
              "      <td>388</td>\n",
              "      <td>33</td>\n",
              "      <td>8</td>\n",
              "    </tr>\n",
              "    <tr>\n",
              "      <th>top</th>\n",
              "      <td>Reservoir</td>\n",
              "      <td>BarklySt</td>\n",
              "      <td>h</td>\n",
              "      <td>S</td>\n",
              "      <td>Jellis</td>\n",
              "      <td>Boroondara City Council</td>\n",
              "      <td>Southern Metropolitan</td>\n",
              "    </tr>\n",
              "    <tr>\n",
              "      <th>freq</th>\n",
              "      <td>844</td>\n",
              "      <td>146</td>\n",
              "      <td>23980</td>\n",
              "      <td>19744</td>\n",
              "      <td>3359</td>\n",
              "      <td>3675</td>\n",
              "      <td>11836</td>\n",
              "    </tr>\n",
              "  </tbody>\n",
              "</table>\n",
              "</div>"
            ],
            "text/plain": [
              "           Suburb   Address  ...              CouncilArea             Regionname\n",
              "count       34857     34857  ...                    34854                  34854\n",
              "unique        351     12164  ...                       33                      8\n",
              "top     Reservoir  BarklySt  ...  Boroondara City Council  Southern Metropolitan\n",
              "freq          844       146  ...                     3675                  11836\n",
              "\n",
              "[4 rows x 7 columns]"
            ]
          },
          "metadata": {},
          "execution_count": 33
        }
      ]
    },
    {
      "cell_type": "code",
      "metadata": {
        "colab": {
          "base_uri": "https://localhost:8080/"
        },
        "id": "hxvHxb7zl_hq",
        "outputId": "b3549897-2d0c-404e-c708-687129f151ad"
      },
      "source": [
        "df.info()"
      ],
      "execution_count": null,
      "outputs": [
        {
          "output_type": "stream",
          "name": "stdout",
          "text": [
            "<class 'pandas.core.frame.DataFrame'>\n",
            "RangeIndex: 34857 entries, 0 to 34856\n",
            "Data columns (total 21 columns):\n",
            " #   Column         Non-Null Count  Dtype   \n",
            "---  ------         --------------  -----   \n",
            " 0   Suburb         34857 non-null  object  \n",
            " 1   Address        34857 non-null  object  \n",
            " 2   Rooms          34857 non-null  int64   \n",
            " 3   Type           34857 non-null  object  \n",
            " 4   Price          27247 non-null  float64 \n",
            " 5   Method         34857 non-null  object  \n",
            " 6   SellerG        34857 non-null  object  \n",
            " 7   Distance       34856 non-null  float64 \n",
            " 8   Postcode       34856 non-null  float64 \n",
            " 9   Bedroom2       26640 non-null  float64 \n",
            " 10  Bathroom       26631 non-null  float64 \n",
            " 11  Car            26129 non-null  float64 \n",
            " 12  Landsize       23047 non-null  float64 \n",
            " 13  BuildingArea   13742 non-null  float64 \n",
            " 14  CouncilArea    34854 non-null  object  \n",
            " 15  Lattitude      26881 non-null  float64 \n",
            " 16  Longtitude     26881 non-null  float64 \n",
            " 17  Regionname     34854 non-null  object  \n",
            " 18  Propertycount  34854 non-null  float64 \n",
            " 19  Timestamp      34857 non-null  int64   \n",
            " 20  Historic       15551 non-null  category\n",
            "dtypes: category(1), float64(11), int64(2), object(7)\n",
            "memory usage: 5.4+ MB\n"
          ]
        }
      ]
    },
    {
      "cell_type": "code",
      "metadata": {
        "colab": {
          "base_uri": "https://localhost:8080/"
        },
        "id": "sNeR84VnmBFl",
        "outputId": "be1963a8-3ff3-49d0-f750-98c2e09b669e"
      },
      "source": [
        "df.select_dtypes(object).isnull().sum()"
      ],
      "execution_count": null,
      "outputs": [
        {
          "output_type": "execute_result",
          "data": {
            "text/plain": [
              "Suburb         0\n",
              "Address        0\n",
              "Type           0\n",
              "Method         0\n",
              "SellerG        0\n",
              "CouncilArea    3\n",
              "Regionname     3\n",
              "dtype: int64"
            ]
          },
          "metadata": {},
          "execution_count": 35
        }
      ]
    },
    {
      "cell_type": "code",
      "metadata": {
        "id": "TtqnbkuLmJ4V"
      },
      "source": [
        "df = df.dropna(subset=[\"CouncilArea\", \"Regionname\"], axis=0)"
      ],
      "execution_count": null,
      "outputs": []
    },
    {
      "cell_type": "code",
      "metadata": {
        "colab": {
          "base_uri": "https://localhost:8080/"
        },
        "id": "ImF70ysVmUO-",
        "outputId": "eb27ccd5-2ae6-4577-b84b-4fb492c950f6"
      },
      "source": [
        "df.select_dtypes(object).isnull().sum()"
      ],
      "execution_count": null,
      "outputs": [
        {
          "output_type": "execute_result",
          "data": {
            "text/plain": [
              "Suburb         0\n",
              "Address        0\n",
              "Type           0\n",
              "Method         0\n",
              "SellerG        0\n",
              "CouncilArea    0\n",
              "Regionname     0\n",
              "dtype: int64"
            ]
          },
          "metadata": {},
          "execution_count": 37
        }
      ]
    },
    {
      "cell_type": "code",
      "metadata": {
        "id": "Pp6ytSqkmVXM"
      },
      "source": [
        "df.drop(columns='Address', inplace=True)"
      ],
      "execution_count": null,
      "outputs": []
    },
    {
      "cell_type": "code",
      "metadata": {
        "colab": {
          "base_uri": "https://localhost:8080/"
        },
        "id": "qB0Yh30smZD7",
        "outputId": "3fb9b2c5-cccc-46a2-8cd9-dc8076b14aa6"
      },
      "source": [
        "counts = df.SellerG.value_counts()\n",
        "counts"
      ],
      "execution_count": null,
      "outputs": [
        {
          "output_type": "execute_result",
          "data": {
            "text/plain": [
              "Jellis                  3358\n",
              "Nelson                  3236\n",
              "Barry                   3235\n",
              "hockingstuart           2623\n",
              "Marshall                2027\n",
              "                        ... \n",
              "hockingstuart/Jellis       1\n",
              "Benchmark                  1\n",
              "Foxtons                    1\n",
              "hockingstuart/Barry        1\n",
              "McGrath/Buxton             1\n",
              "Name: SellerG, Length: 388, dtype: int64"
            ]
          },
          "metadata": {},
          "execution_count": 39
        }
      ]
    },
    {
      "cell_type": "code",
      "metadata": {
        "id": "aPokTH8Qmbea"
      },
      "source": [
        "df_copy = df.copy()"
      ],
      "execution_count": null,
      "outputs": []
    },
    {
      "cell_type": "code",
      "metadata": {
        "colab": {
          "base_uri": "https://localhost:8080/"
        },
        "id": "ZMUFge65m0PE",
        "outputId": "6fc6e861-6767-4b8d-e716-be4241da6204"
      },
      "source": [
        "df.SellerG[df_copy['SellerG'].isin(counts[counts < 100].index)] = 'less than 100'\n",
        "df.SellerG[df_copy['SellerG'].isin(counts[(counts >= 100) & (counts < 200)].index)] = '100 - 200'\n",
        "df.SellerG[df_copy['SellerG'].isin(counts[(counts >= 200) & (counts < 500)].index)] = '200 - 500'\n",
        "df.SellerG[df_copy['SellerG'].isin(counts[(counts >= 500) & (counts < 1000)].index)] = '500 - 1000'\n",
        "df.SellerG[df_copy['SellerG'].isin(counts[counts > 1000].index)] = 'over 1000'"
      ],
      "execution_count": null,
      "outputs": [
        {
          "output_type": "stream",
          "name": "stderr",
          "text": [
            "/usr/local/lib/python3.7/dist-packages/ipykernel_launcher.py:1: SettingWithCopyWarning: \n",
            "A value is trying to be set on a copy of a slice from a DataFrame\n",
            "\n",
            "See the caveats in the documentation: https://pandas.pydata.org/pandas-docs/stable/user_guide/indexing.html#returning-a-view-versus-a-copy\n",
            "  \"\"\"Entry point for launching an IPython kernel.\n",
            "/usr/local/lib/python3.7/dist-packages/ipykernel_launcher.py:2: SettingWithCopyWarning: \n",
            "A value is trying to be set on a copy of a slice from a DataFrame\n",
            "\n",
            "See the caveats in the documentation: https://pandas.pydata.org/pandas-docs/stable/user_guide/indexing.html#returning-a-view-versus-a-copy\n",
            "  \n",
            "/usr/local/lib/python3.7/dist-packages/ipykernel_launcher.py:3: SettingWithCopyWarning: \n",
            "A value is trying to be set on a copy of a slice from a DataFrame\n",
            "\n",
            "See the caveats in the documentation: https://pandas.pydata.org/pandas-docs/stable/user_guide/indexing.html#returning-a-view-versus-a-copy\n",
            "  This is separate from the ipykernel package so we can avoid doing imports until\n",
            "/usr/local/lib/python3.7/dist-packages/ipykernel_launcher.py:4: SettingWithCopyWarning: \n",
            "A value is trying to be set on a copy of a slice from a DataFrame\n",
            "\n",
            "See the caveats in the documentation: https://pandas.pydata.org/pandas-docs/stable/user_guide/indexing.html#returning-a-view-versus-a-copy\n",
            "  after removing the cwd from sys.path.\n",
            "/usr/local/lib/python3.7/dist-packages/ipykernel_launcher.py:5: SettingWithCopyWarning: \n",
            "A value is trying to be set on a copy of a slice from a DataFrame\n",
            "\n",
            "See the caveats in the documentation: https://pandas.pydata.org/pandas-docs/stable/user_guide/indexing.html#returning-a-view-versus-a-copy\n",
            "  \"\"\"\n"
          ]
        }
      ]
    },
    {
      "cell_type": "code",
      "metadata": {
        "colab": {
          "base_uri": "https://localhost:8080/",
          "height": 190
        },
        "id": "TNr5mAHdm2es",
        "outputId": "96361055-0683-45bc-d05a-c933013ac89c"
      },
      "source": [
        "df.describe(include='object')"
      ],
      "execution_count": null,
      "outputs": [
        {
          "output_type": "execute_result",
          "data": {
            "text/html": [
              "<div>\n",
              "<style scoped>\n",
              "    .dataframe tbody tr th:only-of-type {\n",
              "        vertical-align: middle;\n",
              "    }\n",
              "\n",
              "    .dataframe tbody tr th {\n",
              "        vertical-align: top;\n",
              "    }\n",
              "\n",
              "    .dataframe thead th {\n",
              "        text-align: right;\n",
              "    }\n",
              "</style>\n",
              "<table border=\"1\" class=\"dataframe\">\n",
              "  <thead>\n",
              "    <tr style=\"text-align: right;\">\n",
              "      <th></th>\n",
              "      <th>Suburb</th>\n",
              "      <th>Type</th>\n",
              "      <th>Method</th>\n",
              "      <th>SellerG</th>\n",
              "      <th>CouncilArea</th>\n",
              "      <th>Regionname</th>\n",
              "    </tr>\n",
              "  </thead>\n",
              "  <tbody>\n",
              "    <tr>\n",
              "      <th>count</th>\n",
              "      <td>34854</td>\n",
              "      <td>34854</td>\n",
              "      <td>34854</td>\n",
              "      <td>34854</td>\n",
              "      <td>34854</td>\n",
              "      <td>34854</td>\n",
              "    </tr>\n",
              "    <tr>\n",
              "      <th>unique</th>\n",
              "      <td>350</td>\n",
              "      <td>3</td>\n",
              "      <td>9</td>\n",
              "      <td>5</td>\n",
              "      <td>33</td>\n",
              "      <td>8</td>\n",
              "    </tr>\n",
              "    <tr>\n",
              "      <th>top</th>\n",
              "      <td>Reservoir</td>\n",
              "      <td>h</td>\n",
              "      <td>S</td>\n",
              "      <td>over 1000</td>\n",
              "      <td>Boroondara City Council</td>\n",
              "      <td>Southern Metropolitan</td>\n",
              "    </tr>\n",
              "    <tr>\n",
              "      <th>freq</th>\n",
              "      <td>844</td>\n",
              "      <td>23978</td>\n",
              "      <td>19743</td>\n",
              "      <td>18297</td>\n",
              "      <td>3675</td>\n",
              "      <td>11836</td>\n",
              "    </tr>\n",
              "  </tbody>\n",
              "</table>\n",
              "</div>"
            ],
            "text/plain": [
              "           Suburb   Type  ...              CouncilArea             Regionname\n",
              "count       34854  34854  ...                    34854                  34854\n",
              "unique        350      3  ...                       33                      8\n",
              "top     Reservoir      h  ...  Boroondara City Council  Southern Metropolitan\n",
              "freq          844  23978  ...                     3675                  11836\n",
              "\n",
              "[4 rows x 6 columns]"
            ]
          },
          "metadata": {},
          "execution_count": 42
        }
      ]
    },
    {
      "cell_type": "code",
      "metadata": {
        "id": "owt9jAQ0m5AJ"
      },
      "source": [
        "df.drop(columns=['Suburb','Postcode'], inplace=True)"
      ],
      "execution_count": null,
      "outputs": []
    },
    {
      "cell_type": "code",
      "metadata": {
        "colab": {
          "base_uri": "https://localhost:8080/"
        },
        "id": "x9yLYdxem6fQ",
        "outputId": "0dfa828c-cb17-4a23-b687-1f2fcd1a784c"
      },
      "source": [
        "df.info()"
      ],
      "execution_count": null,
      "outputs": [
        {
          "output_type": "stream",
          "name": "stdout",
          "text": [
            "<class 'pandas.core.frame.DataFrame'>\n",
            "Int64Index: 34854 entries, 0 to 34856\n",
            "Data columns (total 18 columns):\n",
            " #   Column         Non-Null Count  Dtype   \n",
            "---  ------         --------------  -----   \n",
            " 0   Rooms          34854 non-null  int64   \n",
            " 1   Type           34854 non-null  object  \n",
            " 2   Price          27244 non-null  float64 \n",
            " 3   Method         34854 non-null  object  \n",
            " 4   SellerG        34854 non-null  object  \n",
            " 5   Distance       34854 non-null  float64 \n",
            " 6   Bedroom2       26640 non-null  float64 \n",
            " 7   Bathroom       26631 non-null  float64 \n",
            " 8   Car            26129 non-null  float64 \n",
            " 9   Landsize       23047 non-null  float64 \n",
            " 10  BuildingArea   13742 non-null  float64 \n",
            " 11  CouncilArea    34854 non-null  object  \n",
            " 12  Lattitude      26881 non-null  float64 \n",
            " 13  Longtitude     26881 non-null  float64 \n",
            " 14  Regionname     34854 non-null  object  \n",
            " 15  Propertycount  34854 non-null  float64 \n",
            " 16  Timestamp      34854 non-null  int64   \n",
            " 17  Historic       15551 non-null  category\n",
            "dtypes: category(1), float64(10), int64(2), object(5)\n",
            "memory usage: 4.8+ MB\n"
          ]
        }
      ]
    },
    {
      "cell_type": "code",
      "metadata": {
        "id": "U5jut8gYySJM"
      },
      "source": [
        "df = pd.get_dummies(df, columns=['Type'], prefix='Type')\n",
        "df = pd.get_dummies(df, columns=['Method'], prefix='Method')\n",
        "df = pd.get_dummies(df, columns=['Regionname'], prefix='Regionname')\n",
        "df = pd.get_dummies(df, columns=['Historic'], prefix='Historic')\n",
        "df = pd.get_dummies(df, columns=['CouncilArea'], prefix='CouncilArea')\n",
        "df = pd.get_dummies(df, columns=['SellerG'], prefix='SellerG')"
      ],
      "execution_count": null,
      "outputs": []
    },
    {
      "cell_type": "code",
      "metadata": {
        "colab": {
          "base_uri": "https://localhost:8080/"
        },
        "id": "0QdPRYdSQ8FV",
        "outputId": "a7e3ae7a-a1ca-4fcb-e6b0-a945738b7ac6"
      },
      "source": [
        "df.info()"
      ],
      "execution_count": null,
      "outputs": [
        {
          "output_type": "stream",
          "name": "stdout",
          "text": [
            "<class 'pandas.core.frame.DataFrame'>\n",
            "Int64Index: 34854 entries, 0 to 34856\n",
            "Data columns (total 78 columns):\n",
            " #   Column                                      Non-Null Count  Dtype  \n",
            "---  ------                                      --------------  -----  \n",
            " 0   Rooms                                       34854 non-null  int64  \n",
            " 1   Price                                       27244 non-null  float64\n",
            " 2   Distance                                    34854 non-null  float64\n",
            " 3   Bedroom2                                    26640 non-null  float64\n",
            " 4   Bathroom                                    26631 non-null  float64\n",
            " 5   Car                                         26129 non-null  float64\n",
            " 6   Landsize                                    23047 non-null  float64\n",
            " 7   BuildingArea                                13742 non-null  float64\n",
            " 8   Lattitude                                   26881 non-null  float64\n",
            " 9   Longtitude                                  26881 non-null  float64\n",
            " 10  Propertycount                               34854 non-null  float64\n",
            " 11  Timestamp                                   34854 non-null  int64  \n",
            " 12  Type_h                                      34854 non-null  uint8  \n",
            " 13  Type_t                                      34854 non-null  uint8  \n",
            " 14  Type_u                                      34854 non-null  uint8  \n",
            " 15  Method_PI                                   34854 non-null  uint8  \n",
            " 16  Method_PN                                   34854 non-null  uint8  \n",
            " 17  Method_S                                    34854 non-null  uint8  \n",
            " 18  Method_SA                                   34854 non-null  uint8  \n",
            " 19  Method_SN                                   34854 non-null  uint8  \n",
            " 20  Method_SP                                   34854 non-null  uint8  \n",
            " 21  Method_SS                                   34854 non-null  uint8  \n",
            " 22  Method_VB                                   34854 non-null  uint8  \n",
            " 23  Method_W                                    34854 non-null  uint8  \n",
            " 24  Regionname_Eastern Metropolitan             34854 non-null  uint8  \n",
            " 25  Regionname_Eastern Victoria                 34854 non-null  uint8  \n",
            " 26  Regionname_Northern Metropolitan            34854 non-null  uint8  \n",
            " 27  Regionname_Northern Victoria                34854 non-null  uint8  \n",
            " 28  Regionname_South-Eastern Metropolitan       34854 non-null  uint8  \n",
            " 29  Regionname_Southern Metropolitan            34854 non-null  uint8  \n",
            " 30  Regionname_Western Metropolitan             34854 non-null  uint8  \n",
            " 31  Regionname_Western Victoria                 34854 non-null  uint8  \n",
            " 32  Historic_0                                  34854 non-null  uint8  \n",
            " 33  Historic_25                                 34854 non-null  uint8  \n",
            " 34  Historic_50                                 34854 non-null  uint8  \n",
            " 35  Historic_75                                 34854 non-null  uint8  \n",
            " 36  Historic_100                                34854 non-null  uint8  \n",
            " 37  Historic_125                                34854 non-null  uint8  \n",
            " 38  Historic_150                                34854 non-null  uint8  \n",
            " 39  Historic_175                                34854 non-null  uint8  \n",
            " 40  CouncilArea_Banyule City Council            34854 non-null  uint8  \n",
            " 41  CouncilArea_Bayside City Council            34854 non-null  uint8  \n",
            " 42  CouncilArea_Boroondara City Council         34854 non-null  uint8  \n",
            " 43  CouncilArea_Brimbank City Council           34854 non-null  uint8  \n",
            " 44  CouncilArea_Cardinia Shire Council          34854 non-null  uint8  \n",
            " 45  CouncilArea_Casey City Council              34854 non-null  uint8  \n",
            " 46  CouncilArea_Darebin City Council            34854 non-null  uint8  \n",
            " 47  CouncilArea_Frankston City Council          34854 non-null  uint8  \n",
            " 48  CouncilArea_Glen Eira City Council          34854 non-null  uint8  \n",
            " 49  CouncilArea_Greater Dandenong City Council  34854 non-null  uint8  \n",
            " 50  CouncilArea_Hobsons Bay City Council        34854 non-null  uint8  \n",
            " 51  CouncilArea_Hume City Council               34854 non-null  uint8  \n",
            " 52  CouncilArea_Kingston City Council           34854 non-null  uint8  \n",
            " 53  CouncilArea_Knox City Council               34854 non-null  uint8  \n",
            " 54  CouncilArea_Macedon Ranges Shire Council    34854 non-null  uint8  \n",
            " 55  CouncilArea_Manningham City Council         34854 non-null  uint8  \n",
            " 56  CouncilArea_Maribyrnong City Council        34854 non-null  uint8  \n",
            " 57  CouncilArea_Maroondah City Council          34854 non-null  uint8  \n",
            " 58  CouncilArea_Melbourne City Council          34854 non-null  uint8  \n",
            " 59  CouncilArea_Melton City Council             34854 non-null  uint8  \n",
            " 60  CouncilArea_Mitchell Shire Council          34854 non-null  uint8  \n",
            " 61  CouncilArea_Monash City Council             34854 non-null  uint8  \n",
            " 62  CouncilArea_Moonee Valley City Council      34854 non-null  uint8  \n",
            " 63  CouncilArea_Moorabool Shire Council         34854 non-null  uint8  \n",
            " 64  CouncilArea_Moreland City Council           34854 non-null  uint8  \n",
            " 65  CouncilArea_Nillumbik Shire Council         34854 non-null  uint8  \n",
            " 66  CouncilArea_Port Phillip City Council       34854 non-null  uint8  \n",
            " 67  CouncilArea_Stonnington City Council        34854 non-null  uint8  \n",
            " 68  CouncilArea_Whitehorse City Council         34854 non-null  uint8  \n",
            " 69  CouncilArea_Whittlesea City Council         34854 non-null  uint8  \n",
            " 70  CouncilArea_Wyndham City Council            34854 non-null  uint8  \n",
            " 71  CouncilArea_Yarra City Council              34854 non-null  uint8  \n",
            " 72  CouncilArea_Yarra Ranges Shire Council      34854 non-null  uint8  \n",
            " 73  SellerG_100 - 200                           34854 non-null  uint8  \n",
            " 74  SellerG_200 - 500                           34854 non-null  uint8  \n",
            " 75  SellerG_500 - 1000                          34854 non-null  uint8  \n",
            " 76  SellerG_less than 100                       34854 non-null  uint8  \n",
            " 77  SellerG_over 1000                           34854 non-null  uint8  \n",
            "dtypes: float64(10), int64(2), uint8(66)\n",
            "memory usage: 5.7 MB\n"
          ]
        }
      ]
    },
    {
      "cell_type": "code",
      "metadata": {
        "colab": {
          "base_uri": "https://localhost:8080/"
        },
        "id": "kVliGC86nsOs",
        "outputId": "10403a2d-1775-4649-bf9e-46eb04674aed"
      },
      "source": [
        "df_not_encode = df.iloc[:, 0:12]\n",
        "df_not_encode.info()"
      ],
      "execution_count": null,
      "outputs": [
        {
          "output_type": "stream",
          "name": "stdout",
          "text": [
            "<class 'pandas.core.frame.DataFrame'>\n",
            "Int64Index: 34854 entries, 0 to 34856\n",
            "Data columns (total 12 columns):\n",
            " #   Column         Non-Null Count  Dtype  \n",
            "---  ------         --------------  -----  \n",
            " 0   Rooms          34854 non-null  int64  \n",
            " 1   Price          27244 non-null  float64\n",
            " 2   Distance       34854 non-null  float64\n",
            " 3   Bedroom2       26640 non-null  float64\n",
            " 4   Bathroom       26631 non-null  float64\n",
            " 5   Car            26129 non-null  float64\n",
            " 6   Landsize       23047 non-null  float64\n",
            " 7   BuildingArea   13742 non-null  float64\n",
            " 8   Lattitude      26881 non-null  float64\n",
            " 9   Longtitude     26881 non-null  float64\n",
            " 10  Propertycount  34854 non-null  float64\n",
            " 11  Timestamp      34854 non-null  int64  \n",
            "dtypes: float64(10), int64(2)\n",
            "memory usage: 3.5 MB\n"
          ]
        }
      ]
    },
    {
      "cell_type": "code",
      "metadata": {
        "colab": {
          "base_uri": "https://localhost:8080/",
          "height": 317
        },
        "id": "-K58VshRnzu-",
        "outputId": "35dfc4d3-b9e2-4d51-d650-924ac28b7b4c"
      },
      "source": [
        "df_not_encode.describe()"
      ],
      "execution_count": null,
      "outputs": [
        {
          "output_type": "execute_result",
          "data": {
            "text/html": [
              "<div>\n",
              "<style scoped>\n",
              "    .dataframe tbody tr th:only-of-type {\n",
              "        vertical-align: middle;\n",
              "    }\n",
              "\n",
              "    .dataframe tbody tr th {\n",
              "        vertical-align: top;\n",
              "    }\n",
              "\n",
              "    .dataframe thead th {\n",
              "        text-align: right;\n",
              "    }\n",
              "</style>\n",
              "<table border=\"1\" class=\"dataframe\">\n",
              "  <thead>\n",
              "    <tr style=\"text-align: right;\">\n",
              "      <th></th>\n",
              "      <th>Rooms</th>\n",
              "      <th>Price</th>\n",
              "      <th>Distance</th>\n",
              "      <th>Bedroom2</th>\n",
              "      <th>Bathroom</th>\n",
              "      <th>Car</th>\n",
              "      <th>Landsize</th>\n",
              "      <th>BuildingArea</th>\n",
              "      <th>Lattitude</th>\n",
              "      <th>Longtitude</th>\n",
              "      <th>Propertycount</th>\n",
              "      <th>Timestamp</th>\n",
              "    </tr>\n",
              "  </thead>\n",
              "  <tbody>\n",
              "    <tr>\n",
              "      <th>count</th>\n",
              "      <td>34854.000000</td>\n",
              "      <td>2.724400e+04</td>\n",
              "      <td>34854.000000</td>\n",
              "      <td>26640.000000</td>\n",
              "      <td>26631.000000</td>\n",
              "      <td>26129.000000</td>\n",
              "      <td>23047.000000</td>\n",
              "      <td>13742.00000</td>\n",
              "      <td>26881.000000</td>\n",
              "      <td>26881.000000</td>\n",
              "      <td>34854.000000</td>\n",
              "      <td>3.485400e+04</td>\n",
              "    </tr>\n",
              "    <tr>\n",
              "      <th>mean</th>\n",
              "      <td>3.031072</td>\n",
              "      <td>1.050210e+06</td>\n",
              "      <td>11.185204</td>\n",
              "      <td>3.084647</td>\n",
              "      <td>1.624798</td>\n",
              "      <td>1.728845</td>\n",
              "      <td>593.598993</td>\n",
              "      <td>160.25640</td>\n",
              "      <td>-37.810634</td>\n",
              "      <td>145.001851</td>\n",
              "      <td>7572.888306</td>\n",
              "      <td>1.495536e+09</td>\n",
              "    </tr>\n",
              "    <tr>\n",
              "      <th>std</th>\n",
              "      <td>0.969943</td>\n",
              "      <td>6.414923e+05</td>\n",
              "      <td>6.788983</td>\n",
              "      <td>0.980690</td>\n",
              "      <td>0.724212</td>\n",
              "      <td>1.010771</td>\n",
              "      <td>3398.841946</td>\n",
              "      <td>401.26706</td>\n",
              "      <td>0.090279</td>\n",
              "      <td>0.120169</td>\n",
              "      <td>4428.090313</td>\n",
              "      <td>1.751951e+07</td>\n",
              "    </tr>\n",
              "    <tr>\n",
              "      <th>min</th>\n",
              "      <td>1.000000</td>\n",
              "      <td>8.500000e+04</td>\n",
              "      <td>0.000000</td>\n",
              "      <td>0.000000</td>\n",
              "      <td>0.000000</td>\n",
              "      <td>0.000000</td>\n",
              "      <td>0.000000</td>\n",
              "      <td>0.00000</td>\n",
              "      <td>-38.190430</td>\n",
              "      <td>144.423790</td>\n",
              "      <td>83.000000</td>\n",
              "      <td>1.453939e+09</td>\n",
              "    </tr>\n",
              "    <tr>\n",
              "      <th>25%</th>\n",
              "      <td>2.000000</td>\n",
              "      <td>6.350000e+05</td>\n",
              "      <td>6.400000</td>\n",
              "      <td>2.000000</td>\n",
              "      <td>1.000000</td>\n",
              "      <td>1.000000</td>\n",
              "      <td>224.000000</td>\n",
              "      <td>102.00000</td>\n",
              "      <td>-37.862950</td>\n",
              "      <td>144.933500</td>\n",
              "      <td>4385.000000</td>\n",
              "      <td>1.479514e+09</td>\n",
              "    </tr>\n",
              "    <tr>\n",
              "      <th>50%</th>\n",
              "      <td>3.000000</td>\n",
              "      <td>8.700000e+05</td>\n",
              "      <td>10.300000</td>\n",
              "      <td>3.000000</td>\n",
              "      <td>2.000000</td>\n",
              "      <td>2.000000</td>\n",
              "      <td>521.000000</td>\n",
              "      <td>136.00000</td>\n",
              "      <td>-37.807600</td>\n",
              "      <td>145.007800</td>\n",
              "      <td>6763.000000</td>\n",
              "      <td>1.499472e+09</td>\n",
              "    </tr>\n",
              "    <tr>\n",
              "      <th>75%</th>\n",
              "      <td>4.000000</td>\n",
              "      <td>1.295000e+06</td>\n",
              "      <td>14.000000</td>\n",
              "      <td>4.000000</td>\n",
              "      <td>2.000000</td>\n",
              "      <td>2.000000</td>\n",
              "      <td>670.000000</td>\n",
              "      <td>188.00000</td>\n",
              "      <td>-37.754100</td>\n",
              "      <td>145.071900</td>\n",
              "      <td>10412.000000</td>\n",
              "      <td>1.509149e+09</td>\n",
              "    </tr>\n",
              "    <tr>\n",
              "      <th>max</th>\n",
              "      <td>16.000000</td>\n",
              "      <td>1.120000e+07</td>\n",
              "      <td>48.100000</td>\n",
              "      <td>30.000000</td>\n",
              "      <td>12.000000</td>\n",
              "      <td>26.000000</td>\n",
              "      <td>433014.000000</td>\n",
              "      <td>44515.00000</td>\n",
              "      <td>-37.390200</td>\n",
              "      <td>145.526350</td>\n",
              "      <td>21650.000000</td>\n",
              "      <td>1.521245e+09</td>\n",
              "    </tr>\n",
              "  </tbody>\n",
              "</table>\n",
              "</div>"
            ],
            "text/plain": [
              "              Rooms         Price  ...  Propertycount     Timestamp\n",
              "count  34854.000000  2.724400e+04  ...   34854.000000  3.485400e+04\n",
              "mean       3.031072  1.050210e+06  ...    7572.888306  1.495536e+09\n",
              "std        0.969943  6.414923e+05  ...    4428.090313  1.751951e+07\n",
              "min        1.000000  8.500000e+04  ...      83.000000  1.453939e+09\n",
              "25%        2.000000  6.350000e+05  ...    4385.000000  1.479514e+09\n",
              "50%        3.000000  8.700000e+05  ...    6763.000000  1.499472e+09\n",
              "75%        4.000000  1.295000e+06  ...   10412.000000  1.509149e+09\n",
              "max       16.000000  1.120000e+07  ...   21650.000000  1.521245e+09\n",
              "\n",
              "[8 rows x 12 columns]"
            ]
          },
          "metadata": {},
          "execution_count": 48
        }
      ]
    },
    {
      "cell_type": "code",
      "metadata": {
        "colab": {
          "base_uri": "https://localhost:8080/"
        },
        "id": "l-0GHBf5oFoG",
        "outputId": "8601d456-4b8b-4d1e-ae78-60e7ce415c8c"
      },
      "source": [
        "df[['Bedroom2', 'Rooms']].isnull().sum()"
      ],
      "execution_count": null,
      "outputs": [
        {
          "output_type": "execute_result",
          "data": {
            "text/plain": [
              "Bedroom2    8214\n",
              "Rooms          0\n",
              "dtype: int64"
            ]
          },
          "metadata": {},
          "execution_count": 50
        }
      ]
    },
    {
      "cell_type": "code",
      "metadata": {
        "colab": {
          "base_uri": "https://localhost:8080/"
        },
        "id": "KcMmvyFZoKYO",
        "outputId": "7dde22ab-803c-4f8a-bce9-74c9da259830"
      },
      "source": [
        "df['Rooms v Bedroom2'] = df['Rooms'] - df['Bedroom2']\n",
        "df['Rooms v Bedroom2'].mean()"
      ],
      "execution_count": null,
      "outputs": [
        {
          "output_type": "execute_result",
          "data": {
            "text/plain": [
              "0.016253753753753753"
            ]
          },
          "metadata": {},
          "execution_count": 52
        }
      ]
    },
    {
      "cell_type": "code",
      "metadata": {
        "id": "6BP_WP48oTsO"
      },
      "source": [
        "df = df.drop(['Bedroom2', 'Rooms v Bedroom2'], axis=1)"
      ],
      "execution_count": null,
      "outputs": []
    },
    {
      "cell_type": "code",
      "metadata": {
        "id": "I5gmdLhCoZ2W"
      },
      "source": [
        "remain = ['Landsize', 'BuildingArea', 'Lattitude', 'Longtitude','Bathroom','Car']"
      ],
      "execution_count": null,
      "outputs": []
    },
    {
      "cell_type": "code",
      "metadata": {
        "id": "gURGH_MXocFW"
      },
      "source": [
        "for col in remain:\n",
        "    df[col].fillna(df[col].median(), inplace=True)"
      ],
      "execution_count": null,
      "outputs": []
    },
    {
      "cell_type": "code",
      "metadata": {
        "id": "8mApvsYIoeKT"
      },
      "source": [
        "df_not_encode = df.iloc[:, 0:11]"
      ],
      "execution_count": null,
      "outputs": []
    },
    {
      "cell_type": "code",
      "metadata": {
        "colab": {
          "base_uri": "https://localhost:8080/"
        },
        "id": "Fm5PtNPXoejF",
        "outputId": "4018c872-44fd-47a9-f671-4a6d238945d6"
      },
      "source": [
        "df_not_encode.isnull().sum()"
      ],
      "execution_count": null,
      "outputs": [
        {
          "output_type": "execute_result",
          "data": {
            "text/plain": [
              "Rooms               0\n",
              "Price            7610\n",
              "Distance            0\n",
              "Bathroom            0\n",
              "Car                 0\n",
              "Landsize            0\n",
              "BuildingArea        0\n",
              "Lattitude           0\n",
              "Longtitude          0\n",
              "Propertycount       0\n",
              "Timestamp           0\n",
              "dtype: int64"
            ]
          },
          "metadata": {},
          "execution_count": 58
        }
      ]
    },
    {
      "cell_type": "code",
      "metadata": {
        "id": "nNsn05G9ogao"
      },
      "source": [
        "df = df.dropna(subset=['Price'], axis=0)"
      ],
      "execution_count": null,
      "outputs": []
    },
    {
      "cell_type": "code",
      "metadata": {
        "colab": {
          "base_uri": "https://localhost:8080/",
          "height": 317
        },
        "id": "WOHxi_gJokmn",
        "outputId": "29376316-fc8c-49c7-8bf0-61c0d30b2d2a"
      },
      "source": [
        "df_not_encode.describe()"
      ],
      "execution_count": null,
      "outputs": [
        {
          "output_type": "execute_result",
          "data": {
            "text/html": [
              "<div>\n",
              "<style scoped>\n",
              "    .dataframe tbody tr th:only-of-type {\n",
              "        vertical-align: middle;\n",
              "    }\n",
              "\n",
              "    .dataframe tbody tr th {\n",
              "        vertical-align: top;\n",
              "    }\n",
              "\n",
              "    .dataframe thead th {\n",
              "        text-align: right;\n",
              "    }\n",
              "</style>\n",
              "<table border=\"1\" class=\"dataframe\">\n",
              "  <thead>\n",
              "    <tr style=\"text-align: right;\">\n",
              "      <th></th>\n",
              "      <th>Rooms</th>\n",
              "      <th>Price</th>\n",
              "      <th>Distance</th>\n",
              "      <th>Bathroom</th>\n",
              "      <th>Car</th>\n",
              "      <th>Landsize</th>\n",
              "      <th>BuildingArea</th>\n",
              "      <th>Lattitude</th>\n",
              "      <th>Longtitude</th>\n",
              "      <th>Propertycount</th>\n",
              "      <th>Timestamp</th>\n",
              "    </tr>\n",
              "  </thead>\n",
              "  <tbody>\n",
              "    <tr>\n",
              "      <th>count</th>\n",
              "      <td>34854.000000</td>\n",
              "      <td>2.724400e+04</td>\n",
              "      <td>34854.000000</td>\n",
              "      <td>34854.000000</td>\n",
              "      <td>34854.000000</td>\n",
              "      <td>34854.000000</td>\n",
              "      <td>34854.000000</td>\n",
              "      <td>34854.000000</td>\n",
              "      <td>34854.000000</td>\n",
              "      <td>34854.000000</td>\n",
              "      <td>3.485400e+04</td>\n",
              "    </tr>\n",
              "    <tr>\n",
              "      <th>mean</th>\n",
              "      <td>3.031072</td>\n",
              "      <td>1.050210e+06</td>\n",
              "      <td>11.185204</td>\n",
              "      <td>1.713318</td>\n",
              "      <td>1.796723</td>\n",
              "      <td>569.005652</td>\n",
              "      <td>145.563650</td>\n",
              "      <td>-37.809940</td>\n",
              "      <td>145.003212</td>\n",
              "      <td>7572.888306</td>\n",
              "      <td>1.495536e+09</td>\n",
              "    </tr>\n",
              "    <tr>\n",
              "      <th>std</th>\n",
              "      <td>0.969943</td>\n",
              "      <td>6.414923e+05</td>\n",
              "      <td>6.788983</td>\n",
              "      <td>0.652777</td>\n",
              "      <td>0.883005</td>\n",
              "      <td>2764.026645</td>\n",
              "      <td>252.233483</td>\n",
              "      <td>0.079293</td>\n",
              "      <td>0.105562</td>\n",
              "      <td>4428.090313</td>\n",
              "      <td>1.751951e+07</td>\n",
              "    </tr>\n",
              "    <tr>\n",
              "      <th>min</th>\n",
              "      <td>1.000000</td>\n",
              "      <td>8.500000e+04</td>\n",
              "      <td>0.000000</td>\n",
              "      <td>0.000000</td>\n",
              "      <td>0.000000</td>\n",
              "      <td>0.000000</td>\n",
              "      <td>0.000000</td>\n",
              "      <td>-38.190430</td>\n",
              "      <td>144.423790</td>\n",
              "      <td>83.000000</td>\n",
              "      <td>1.453939e+09</td>\n",
              "    </tr>\n",
              "    <tr>\n",
              "      <th>25%</th>\n",
              "      <td>2.000000</td>\n",
              "      <td>6.350000e+05</td>\n",
              "      <td>6.400000</td>\n",
              "      <td>1.000000</td>\n",
              "      <td>1.000000</td>\n",
              "      <td>357.000000</td>\n",
              "      <td>136.000000</td>\n",
              "      <td>-37.846900</td>\n",
              "      <td>144.964400</td>\n",
              "      <td>4385.000000</td>\n",
              "      <td>1.479514e+09</td>\n",
              "    </tr>\n",
              "    <tr>\n",
              "      <th>50%</th>\n",
              "      <td>3.000000</td>\n",
              "      <td>8.700000e+05</td>\n",
              "      <td>10.300000</td>\n",
              "      <td>2.000000</td>\n",
              "      <td>2.000000</td>\n",
              "      <td>521.000000</td>\n",
              "      <td>136.000000</td>\n",
              "      <td>-37.807600</td>\n",
              "      <td>145.007800</td>\n",
              "      <td>6763.000000</td>\n",
              "      <td>1.499472e+09</td>\n",
              "    </tr>\n",
              "    <tr>\n",
              "      <th>75%</th>\n",
              "      <td>4.000000</td>\n",
              "      <td>1.295000e+06</td>\n",
              "      <td>14.000000</td>\n",
              "      <td>2.000000</td>\n",
              "      <td>2.000000</td>\n",
              "      <td>598.000000</td>\n",
              "      <td>136.000000</td>\n",
              "      <td>-37.770893</td>\n",
              "      <td>145.051750</td>\n",
              "      <td>10412.000000</td>\n",
              "      <td>1.509149e+09</td>\n",
              "    </tr>\n",
              "    <tr>\n",
              "      <th>max</th>\n",
              "      <td>16.000000</td>\n",
              "      <td>1.120000e+07</td>\n",
              "      <td>48.100000</td>\n",
              "      <td>12.000000</td>\n",
              "      <td>26.000000</td>\n",
              "      <td>433014.000000</td>\n",
              "      <td>44515.000000</td>\n",
              "      <td>-37.390200</td>\n",
              "      <td>145.526350</td>\n",
              "      <td>21650.000000</td>\n",
              "      <td>1.521245e+09</td>\n",
              "    </tr>\n",
              "  </tbody>\n",
              "</table>\n",
              "</div>"
            ],
            "text/plain": [
              "              Rooms         Price  ...  Propertycount     Timestamp\n",
              "count  34854.000000  2.724400e+04  ...   34854.000000  3.485400e+04\n",
              "mean       3.031072  1.050210e+06  ...    7572.888306  1.495536e+09\n",
              "std        0.969943  6.414923e+05  ...    4428.090313  1.751951e+07\n",
              "min        1.000000  8.500000e+04  ...      83.000000  1.453939e+09\n",
              "25%        2.000000  6.350000e+05  ...    4385.000000  1.479514e+09\n",
              "50%        3.000000  8.700000e+05  ...    6763.000000  1.499472e+09\n",
              "75%        4.000000  1.295000e+06  ...   10412.000000  1.509149e+09\n",
              "max       16.000000  1.120000e+07  ...   21650.000000  1.521245e+09\n",
              "\n",
              "[8 rows x 11 columns]"
            ]
          },
          "metadata": {},
          "execution_count": 60
        }
      ]
    },
    {
      "cell_type": "code",
      "metadata": {
        "colab": {
          "base_uri": "https://localhost:8080/",
          "height": 439
        },
        "id": "JtdqlvnQomy-",
        "outputId": "461b5613-c648-4a3b-ccad-8dee7bd4385c"
      },
      "source": [
        "df_not_encode[df_not_encode['BuildingArea']==0]"
      ],
      "execution_count": null,
      "outputs": [
        {
          "output_type": "execute_result",
          "data": {
            "text/html": [
              "<div>\n",
              "<style scoped>\n",
              "    .dataframe tbody tr th:only-of-type {\n",
              "        vertical-align: middle;\n",
              "    }\n",
              "\n",
              "    .dataframe tbody tr th {\n",
              "        vertical-align: top;\n",
              "    }\n",
              "\n",
              "    .dataframe thead th {\n",
              "        text-align: right;\n",
              "    }\n",
              "</style>\n",
              "<table border=\"1\" class=\"dataframe\">\n",
              "  <thead>\n",
              "    <tr style=\"text-align: right;\">\n",
              "      <th></th>\n",
              "      <th>Rooms</th>\n",
              "      <th>Price</th>\n",
              "      <th>Distance</th>\n",
              "      <th>Bathroom</th>\n",
              "      <th>Car</th>\n",
              "      <th>Landsize</th>\n",
              "      <th>BuildingArea</th>\n",
              "      <th>Lattitude</th>\n",
              "      <th>Longtitude</th>\n",
              "      <th>Propertycount</th>\n",
              "      <th>Timestamp</th>\n",
              "    </tr>\n",
              "  </thead>\n",
              "  <tbody>\n",
              "    <tr>\n",
              "      <th>7211</th>\n",
              "      <td>2</td>\n",
              "      <td>841000.0</td>\n",
              "      <td>2.3</td>\n",
              "      <td>1.0</td>\n",
              "      <td>1.0</td>\n",
              "      <td>215.0</td>\n",
              "      <td>0.0</td>\n",
              "      <td>-37.79530</td>\n",
              "      <td>144.94370</td>\n",
              "      <td>6821.0</td>\n",
              "      <td>1488585600</td>\n",
              "    </tr>\n",
              "    <tr>\n",
              "      <th>19775</th>\n",
              "      <td>5</td>\n",
              "      <td>1950000.0</td>\n",
              "      <td>9.7</td>\n",
              "      <td>3.0</td>\n",
              "      <td>2.0</td>\n",
              "      <td>743.0</td>\n",
              "      <td>0.0</td>\n",
              "      <td>-37.80235</td>\n",
              "      <td>145.09311</td>\n",
              "      <td>7809.0</td>\n",
              "      <td>1504396800</td>\n",
              "    </tr>\n",
              "    <tr>\n",
              "      <th>19840</th>\n",
              "      <td>3</td>\n",
              "      <td>814000.0</td>\n",
              "      <td>12.1</td>\n",
              "      <td>1.0</td>\n",
              "      <td>2.0</td>\n",
              "      <td>542.0</td>\n",
              "      <td>0.0</td>\n",
              "      <td>-37.70861</td>\n",
              "      <td>145.05691</td>\n",
              "      <td>10175.0</td>\n",
              "      <td>1504396800</td>\n",
              "    </tr>\n",
              "    <tr>\n",
              "      <th>20038</th>\n",
              "      <td>3</td>\n",
              "      <td>NaN</td>\n",
              "      <td>8.8</td>\n",
              "      <td>1.0</td>\n",
              "      <td>2.0</td>\n",
              "      <td>658.0</td>\n",
              "      <td>0.0</td>\n",
              "      <td>-37.75287</td>\n",
              "      <td>145.05547</td>\n",
              "      <td>2947.0</td>\n",
              "      <td>1504396800</td>\n",
              "    </tr>\n",
              "    <tr>\n",
              "      <th>20223</th>\n",
              "      <td>4</td>\n",
              "      <td>570000.0</td>\n",
              "      <td>20.6</td>\n",
              "      <td>2.0</td>\n",
              "      <td>2.0</td>\n",
              "      <td>504.0</td>\n",
              "      <td>0.0</td>\n",
              "      <td>-37.61419</td>\n",
              "      <td>144.93448</td>\n",
              "      <td>5833.0</td>\n",
              "      <td>1504396800</td>\n",
              "    </tr>\n",
              "    <tr>\n",
              "      <th>...</th>\n",
              "      <td>...</td>\n",
              "      <td>...</td>\n",
              "      <td>...</td>\n",
              "      <td>...</td>\n",
              "      <td>...</td>\n",
              "      <td>...</td>\n",
              "      <td>...</td>\n",
              "      <td>...</td>\n",
              "      <td>...</td>\n",
              "      <td>...</td>\n",
              "      <td>...</td>\n",
              "    </tr>\n",
              "    <tr>\n",
              "      <th>32936</th>\n",
              "      <td>4</td>\n",
              "      <td>722500.0</td>\n",
              "      <td>25.5</td>\n",
              "      <td>2.0</td>\n",
              "      <td>2.0</td>\n",
              "      <td>512.0</td>\n",
              "      <td>0.0</td>\n",
              "      <td>-37.61971</td>\n",
              "      <td>145.02910</td>\n",
              "      <td>2940.0</td>\n",
              "      <td>1518825600</td>\n",
              "    </tr>\n",
              "    <tr>\n",
              "      <th>33397</th>\n",
              "      <td>4</td>\n",
              "      <td>677000.0</td>\n",
              "      <td>20.4</td>\n",
              "      <td>2.0</td>\n",
              "      <td>2.0</td>\n",
              "      <td>312.0</td>\n",
              "      <td>0.0</td>\n",
              "      <td>-37.62439</td>\n",
              "      <td>144.88629</td>\n",
              "      <td>4864.0</td>\n",
              "      <td>1521244800</td>\n",
              "    </tr>\n",
              "    <tr>\n",
              "      <th>33660</th>\n",
              "      <td>3</td>\n",
              "      <td>950000.0</td>\n",
              "      <td>8.4</td>\n",
              "      <td>1.0</td>\n",
              "      <td>2.0</td>\n",
              "      <td>301.0</td>\n",
              "      <td>0.0</td>\n",
              "      <td>-37.75302</td>\n",
              "      <td>145.00948</td>\n",
              "      <td>14577.0</td>\n",
              "      <td>1521244800</td>\n",
              "    </tr>\n",
              "    <tr>\n",
              "      <th>33899</th>\n",
              "      <td>4</td>\n",
              "      <td>615000.0</td>\n",
              "      <td>25.5</td>\n",
              "      <td>2.0</td>\n",
              "      <td>2.0</td>\n",
              "      <td>392.0</td>\n",
              "      <td>0.0</td>\n",
              "      <td>-37.61252</td>\n",
              "      <td>145.04288</td>\n",
              "      <td>2940.0</td>\n",
              "      <td>1521244800</td>\n",
              "    </tr>\n",
              "    <tr>\n",
              "      <th>34083</th>\n",
              "      <td>3</td>\n",
              "      <td>NaN</td>\n",
              "      <td>7.7</td>\n",
              "      <td>1.0</td>\n",
              "      <td>1.0</td>\n",
              "      <td>647.0</td>\n",
              "      <td>0.0</td>\n",
              "      <td>-37.84812</td>\n",
              "      <td>145.07414</td>\n",
              "      <td>8920.0</td>\n",
              "      <td>1519430400</td>\n",
              "    </tr>\n",
              "  </tbody>\n",
              "</table>\n",
              "<p>76 rows × 11 columns</p>\n",
              "</div>"
            ],
            "text/plain": [
              "       Rooms      Price  Distance  ...  Longtitude  Propertycount   Timestamp\n",
              "7211       2   841000.0       2.3  ...   144.94370         6821.0  1488585600\n",
              "19775      5  1950000.0       9.7  ...   145.09311         7809.0  1504396800\n",
              "19840      3   814000.0      12.1  ...   145.05691        10175.0  1504396800\n",
              "20038      3        NaN       8.8  ...   145.05547         2947.0  1504396800\n",
              "20223      4   570000.0      20.6  ...   144.93448         5833.0  1504396800\n",
              "...      ...        ...       ...  ...         ...            ...         ...\n",
              "32936      4   722500.0      25.5  ...   145.02910         2940.0  1518825600\n",
              "33397      4   677000.0      20.4  ...   144.88629         4864.0  1521244800\n",
              "33660      3   950000.0       8.4  ...   145.00948        14577.0  1521244800\n",
              "33899      4   615000.0      25.5  ...   145.04288         2940.0  1521244800\n",
              "34083      3        NaN       7.7  ...   145.07414         8920.0  1519430400\n",
              "\n",
              "[76 rows x 11 columns]"
            ]
          },
          "metadata": {},
          "execution_count": 61
        }
      ]
    },
    {
      "cell_type": "code",
      "metadata": {
        "colab": {
          "base_uri": "https://localhost:8080/",
          "height": 439
        },
        "id": "j8T2KFlkorHf",
        "outputId": "a34356c3-fc11-4353-c293-11678caeba2f"
      },
      "source": [
        "df_not_encode[df_not_encode['Landsize']==0]"
      ],
      "execution_count": null,
      "outputs": [
        {
          "output_type": "execute_result",
          "data": {
            "text/html": [
              "<div>\n",
              "<style scoped>\n",
              "    .dataframe tbody tr th:only-of-type {\n",
              "        vertical-align: middle;\n",
              "    }\n",
              "\n",
              "    .dataframe tbody tr th {\n",
              "        vertical-align: top;\n",
              "    }\n",
              "\n",
              "    .dataframe thead th {\n",
              "        text-align: right;\n",
              "    }\n",
              "</style>\n",
              "<table border=\"1\" class=\"dataframe\">\n",
              "  <thead>\n",
              "    <tr style=\"text-align: right;\">\n",
              "      <th></th>\n",
              "      <th>Rooms</th>\n",
              "      <th>Price</th>\n",
              "      <th>Distance</th>\n",
              "      <th>Bathroom</th>\n",
              "      <th>Car</th>\n",
              "      <th>Landsize</th>\n",
              "      <th>BuildingArea</th>\n",
              "      <th>Lattitude</th>\n",
              "      <th>Longtitude</th>\n",
              "      <th>Propertycount</th>\n",
              "      <th>Timestamp</th>\n",
              "    </tr>\n",
              "  </thead>\n",
              "  <tbody>\n",
              "    <tr>\n",
              "      <th>3</th>\n",
              "      <td>3</td>\n",
              "      <td>NaN</td>\n",
              "      <td>2.5</td>\n",
              "      <td>2.0</td>\n",
              "      <td>1.0</td>\n",
              "      <td>0.0</td>\n",
              "      <td>136.00</td>\n",
              "      <td>-37.81140</td>\n",
              "      <td>145.01160</td>\n",
              "      <td>4019.0</td>\n",
              "      <td>1454544000</td>\n",
              "    </tr>\n",
              "    <tr>\n",
              "      <th>17</th>\n",
              "      <td>1</td>\n",
              "      <td>300000.0</td>\n",
              "      <td>2.5</td>\n",
              "      <td>1.0</td>\n",
              "      <td>1.0</td>\n",
              "      <td>0.0</td>\n",
              "      <td>136.00</td>\n",
              "      <td>-37.80080</td>\n",
              "      <td>144.99730</td>\n",
              "      <td>4019.0</td>\n",
              "      <td>1475884800</td>\n",
              "    </tr>\n",
              "    <tr>\n",
              "      <th>23</th>\n",
              "      <td>2</td>\n",
              "      <td>700000.0</td>\n",
              "      <td>2.5</td>\n",
              "      <td>2.0</td>\n",
              "      <td>1.0</td>\n",
              "      <td>0.0</td>\n",
              "      <td>136.00</td>\n",
              "      <td>-37.81100</td>\n",
              "      <td>145.00670</td>\n",
              "      <td>4019.0</td>\n",
              "      <td>1478908800</td>\n",
              "    </tr>\n",
              "    <tr>\n",
              "      <th>25</th>\n",
              "      <td>2</td>\n",
              "      <td>750000.0</td>\n",
              "      <td>2.5</td>\n",
              "      <td>2.0</td>\n",
              "      <td>1.0</td>\n",
              "      <td>0.0</td>\n",
              "      <td>94.00</td>\n",
              "      <td>-37.80780</td>\n",
              "      <td>144.99650</td>\n",
              "      <td>4019.0</td>\n",
              "      <td>1478908800</td>\n",
              "    </tr>\n",
              "    <tr>\n",
              "      <th>29</th>\n",
              "      <td>1</td>\n",
              "      <td>441000.0</td>\n",
              "      <td>2.5</td>\n",
              "      <td>1.0</td>\n",
              "      <td>1.0</td>\n",
              "      <td>0.0</td>\n",
              "      <td>136.00</td>\n",
              "      <td>-37.80160</td>\n",
              "      <td>144.99880</td>\n",
              "      <td>4019.0</td>\n",
              "      <td>1463184000</td>\n",
              "    </tr>\n",
              "    <tr>\n",
              "      <th>...</th>\n",
              "      <td>...</td>\n",
              "      <td>...</td>\n",
              "      <td>...</td>\n",
              "      <td>...</td>\n",
              "      <td>...</td>\n",
              "      <td>...</td>\n",
              "      <td>...</td>\n",
              "      <td>...</td>\n",
              "      <td>...</td>\n",
              "      <td>...</td>\n",
              "      <td>...</td>\n",
              "    </tr>\n",
              "    <tr>\n",
              "      <th>19696</th>\n",
              "      <td>3</td>\n",
              "      <td>1050000.0</td>\n",
              "      <td>10.2</td>\n",
              "      <td>2.0</td>\n",
              "      <td>2.0</td>\n",
              "      <td>0.0</td>\n",
              "      <td>136.00</td>\n",
              "      <td>-37.83358</td>\n",
              "      <td>145.09884</td>\n",
              "      <td>5457.0</td>\n",
              "      <td>1501286400</td>\n",
              "    </tr>\n",
              "    <tr>\n",
              "      <th>19710</th>\n",
              "      <td>2</td>\n",
              "      <td>300000.0</td>\n",
              "      <td>12.9</td>\n",
              "      <td>1.0</td>\n",
              "      <td>1.0</td>\n",
              "      <td>0.0</td>\n",
              "      <td>66.32</td>\n",
              "      <td>-37.69815</td>\n",
              "      <td>144.88019</td>\n",
              "      <td>3296.0</td>\n",
              "      <td>1501286400</td>\n",
              "    </tr>\n",
              "    <tr>\n",
              "      <th>19725</th>\n",
              "      <td>2</td>\n",
              "      <td>NaN</td>\n",
              "      <td>6.4</td>\n",
              "      <td>1.0</td>\n",
              "      <td>1.0</td>\n",
              "      <td>0.0</td>\n",
              "      <td>92.00</td>\n",
              "      <td>-37.80029</td>\n",
              "      <td>144.87859</td>\n",
              "      <td>5058.0</td>\n",
              "      <td>1501286400</td>\n",
              "    </tr>\n",
              "    <tr>\n",
              "      <th>19734</th>\n",
              "      <td>1</td>\n",
              "      <td>385000.0</td>\n",
              "      <td>6.8</td>\n",
              "      <td>1.0</td>\n",
              "      <td>1.0</td>\n",
              "      <td>0.0</td>\n",
              "      <td>35.64</td>\n",
              "      <td>-37.85588</td>\n",
              "      <td>144.89936</td>\n",
              "      <td>6380.0</td>\n",
              "      <td>1501286400</td>\n",
              "    </tr>\n",
              "    <tr>\n",
              "      <th>19736</th>\n",
              "      <td>2</td>\n",
              "      <td>560000.0</td>\n",
              "      <td>4.6</td>\n",
              "      <td>1.0</td>\n",
              "      <td>1.0</td>\n",
              "      <td>0.0</td>\n",
              "      <td>61.60</td>\n",
              "      <td>-37.85581</td>\n",
              "      <td>144.99025</td>\n",
              "      <td>4380.0</td>\n",
              "      <td>1501286400</td>\n",
              "    </tr>\n",
              "  </tbody>\n",
              "</table>\n",
              "<p>2437 rows × 11 columns</p>\n",
              "</div>"
            ],
            "text/plain": [
              "       Rooms      Price  Distance  ...  Longtitude  Propertycount   Timestamp\n",
              "3          3        NaN       2.5  ...   145.01160         4019.0  1454544000\n",
              "17         1   300000.0       2.5  ...   144.99730         4019.0  1475884800\n",
              "23         2   700000.0       2.5  ...   145.00670         4019.0  1478908800\n",
              "25         2   750000.0       2.5  ...   144.99650         4019.0  1478908800\n",
              "29         1   441000.0       2.5  ...   144.99880         4019.0  1463184000\n",
              "...      ...        ...       ...  ...         ...            ...         ...\n",
              "19696      3  1050000.0      10.2  ...   145.09884         5457.0  1501286400\n",
              "19710      2   300000.0      12.9  ...   144.88019         3296.0  1501286400\n",
              "19725      2        NaN       6.4  ...   144.87859         5058.0  1501286400\n",
              "19734      1   385000.0       6.8  ...   144.89936         6380.0  1501286400\n",
              "19736      2   560000.0       4.6  ...   144.99025         4380.0  1501286400\n",
              "\n",
              "[2437 rows x 11 columns]"
            ]
          },
          "metadata": {},
          "execution_count": 62
        }
      ]
    },
    {
      "cell_type": "code",
      "metadata": {
        "colab": {
          "base_uri": "https://localhost:8080/",
          "height": 419
        },
        "id": "yZplgTKdou89",
        "outputId": "f0051d5c-f33f-41c4-ad79-d0584319e5f3"
      },
      "source": [
        "df_not_encode[(df_not_encode['BuildingArea']==0) & (df_not_encode['Rooms']>=1) ]"
      ],
      "execution_count": null,
      "outputs": [
        {
          "output_type": "execute_result",
          "data": {
            "text/html": [
              "<div>\n",
              "<style scoped>\n",
              "    .dataframe tbody tr th:only-of-type {\n",
              "        vertical-align: middle;\n",
              "    }\n",
              "\n",
              "    .dataframe tbody tr th {\n",
              "        vertical-align: top;\n",
              "    }\n",
              "\n",
              "    .dataframe thead th {\n",
              "        text-align: right;\n",
              "    }\n",
              "</style>\n",
              "<table border=\"1\" class=\"dataframe\">\n",
              "  <thead>\n",
              "    <tr style=\"text-align: right;\">\n",
              "      <th></th>\n",
              "      <th>Rooms</th>\n",
              "      <th>Price</th>\n",
              "      <th>Distance</th>\n",
              "      <th>Bathroom</th>\n",
              "      <th>Car</th>\n",
              "      <th>Landsize</th>\n",
              "      <th>BuildingArea</th>\n",
              "      <th>Lattitude</th>\n",
              "      <th>Longtitude</th>\n",
              "      <th>Propertycount</th>\n",
              "      <th>Timestamp</th>\n",
              "    </tr>\n",
              "  </thead>\n",
              "  <tbody>\n",
              "    <tr>\n",
              "      <th>7211</th>\n",
              "      <td>2</td>\n",
              "      <td>841000.0</td>\n",
              "      <td>2.3</td>\n",
              "      <td>1.0</td>\n",
              "      <td>1.0</td>\n",
              "      <td>215.0</td>\n",
              "      <td>0.0</td>\n",
              "      <td>-37.79530</td>\n",
              "      <td>144.94370</td>\n",
              "      <td>6821.0</td>\n",
              "      <td>1488585600</td>\n",
              "    </tr>\n",
              "    <tr>\n",
              "      <th>19775</th>\n",
              "      <td>5</td>\n",
              "      <td>1950000.0</td>\n",
              "      <td>9.7</td>\n",
              "      <td>3.0</td>\n",
              "      <td>2.0</td>\n",
              "      <td>743.0</td>\n",
              "      <td>0.0</td>\n",
              "      <td>-37.80235</td>\n",
              "      <td>145.09311</td>\n",
              "      <td>7809.0</td>\n",
              "      <td>1504396800</td>\n",
              "    </tr>\n",
              "    <tr>\n",
              "      <th>19840</th>\n",
              "      <td>3</td>\n",
              "      <td>814000.0</td>\n",
              "      <td>12.1</td>\n",
              "      <td>1.0</td>\n",
              "      <td>2.0</td>\n",
              "      <td>542.0</td>\n",
              "      <td>0.0</td>\n",
              "      <td>-37.70861</td>\n",
              "      <td>145.05691</td>\n",
              "      <td>10175.0</td>\n",
              "      <td>1504396800</td>\n",
              "    </tr>\n",
              "    <tr>\n",
              "      <th>20038</th>\n",
              "      <td>3</td>\n",
              "      <td>NaN</td>\n",
              "      <td>8.8</td>\n",
              "      <td>1.0</td>\n",
              "      <td>2.0</td>\n",
              "      <td>658.0</td>\n",
              "      <td>0.0</td>\n",
              "      <td>-37.75287</td>\n",
              "      <td>145.05547</td>\n",
              "      <td>2947.0</td>\n",
              "      <td>1504396800</td>\n",
              "    </tr>\n",
              "    <tr>\n",
              "      <th>20223</th>\n",
              "      <td>4</td>\n",
              "      <td>570000.0</td>\n",
              "      <td>20.6</td>\n",
              "      <td>2.0</td>\n",
              "      <td>2.0</td>\n",
              "      <td>504.0</td>\n",
              "      <td>0.0</td>\n",
              "      <td>-37.61419</td>\n",
              "      <td>144.93448</td>\n",
              "      <td>5833.0</td>\n",
              "      <td>1504396800</td>\n",
              "    </tr>\n",
              "    <tr>\n",
              "      <th>...</th>\n",
              "      <td>...</td>\n",
              "      <td>...</td>\n",
              "      <td>...</td>\n",
              "      <td>...</td>\n",
              "      <td>...</td>\n",
              "      <td>...</td>\n",
              "      <td>...</td>\n",
              "      <td>...</td>\n",
              "      <td>...</td>\n",
              "      <td>...</td>\n",
              "      <td>...</td>\n",
              "    </tr>\n",
              "    <tr>\n",
              "      <th>32936</th>\n",
              "      <td>4</td>\n",
              "      <td>722500.0</td>\n",
              "      <td>25.5</td>\n",
              "      <td>2.0</td>\n",
              "      <td>2.0</td>\n",
              "      <td>512.0</td>\n",
              "      <td>0.0</td>\n",
              "      <td>-37.61971</td>\n",
              "      <td>145.02910</td>\n",
              "      <td>2940.0</td>\n",
              "      <td>1518825600</td>\n",
              "    </tr>\n",
              "    <tr>\n",
              "      <th>33397</th>\n",
              "      <td>4</td>\n",
              "      <td>677000.0</td>\n",
              "      <td>20.4</td>\n",
              "      <td>2.0</td>\n",
              "      <td>2.0</td>\n",
              "      <td>312.0</td>\n",
              "      <td>0.0</td>\n",
              "      <td>-37.62439</td>\n",
              "      <td>144.88629</td>\n",
              "      <td>4864.0</td>\n",
              "      <td>1521244800</td>\n",
              "    </tr>\n",
              "    <tr>\n",
              "      <th>33660</th>\n",
              "      <td>3</td>\n",
              "      <td>950000.0</td>\n",
              "      <td>8.4</td>\n",
              "      <td>1.0</td>\n",
              "      <td>2.0</td>\n",
              "      <td>301.0</td>\n",
              "      <td>0.0</td>\n",
              "      <td>-37.75302</td>\n",
              "      <td>145.00948</td>\n",
              "      <td>14577.0</td>\n",
              "      <td>1521244800</td>\n",
              "    </tr>\n",
              "    <tr>\n",
              "      <th>33899</th>\n",
              "      <td>4</td>\n",
              "      <td>615000.0</td>\n",
              "      <td>25.5</td>\n",
              "      <td>2.0</td>\n",
              "      <td>2.0</td>\n",
              "      <td>392.0</td>\n",
              "      <td>0.0</td>\n",
              "      <td>-37.61252</td>\n",
              "      <td>145.04288</td>\n",
              "      <td>2940.0</td>\n",
              "      <td>1521244800</td>\n",
              "    </tr>\n",
              "    <tr>\n",
              "      <th>34083</th>\n",
              "      <td>3</td>\n",
              "      <td>NaN</td>\n",
              "      <td>7.7</td>\n",
              "      <td>1.0</td>\n",
              "      <td>1.0</td>\n",
              "      <td>647.0</td>\n",
              "      <td>0.0</td>\n",
              "      <td>-37.84812</td>\n",
              "      <td>145.07414</td>\n",
              "      <td>8920.0</td>\n",
              "      <td>1519430400</td>\n",
              "    </tr>\n",
              "  </tbody>\n",
              "</table>\n",
              "<p>76 rows × 11 columns</p>\n",
              "</div>"
            ],
            "text/plain": [
              "       Rooms      Price  Distance  ...  Longtitude  Propertycount   Timestamp\n",
              "7211       2   841000.0       2.3  ...   144.94370         6821.0  1488585600\n",
              "19775      5  1950000.0       9.7  ...   145.09311         7809.0  1504396800\n",
              "19840      3   814000.0      12.1  ...   145.05691        10175.0  1504396800\n",
              "20038      3        NaN       8.8  ...   145.05547         2947.0  1504396800\n",
              "20223      4   570000.0      20.6  ...   144.93448         5833.0  1504396800\n",
              "...      ...        ...       ...  ...         ...            ...         ...\n",
              "32936      4   722500.0      25.5  ...   145.02910         2940.0  1518825600\n",
              "33397      4   677000.0      20.4  ...   144.88629         4864.0  1521244800\n",
              "33660      3   950000.0       8.4  ...   145.00948        14577.0  1521244800\n",
              "33899      4   615000.0      25.5  ...   145.04288         2940.0  1521244800\n",
              "34083      3        NaN       7.7  ...   145.07414         8920.0  1519430400\n",
              "\n",
              "[76 rows x 11 columns]"
            ]
          },
          "metadata": {},
          "execution_count": 63
        }
      ]
    },
    {
      "cell_type": "code",
      "metadata": {
        "colab": {
          "base_uri": "https://localhost:8080/",
          "height": 49
        },
        "id": "gqRGtrm7owq8",
        "outputId": "2c186760-1daa-4ae0-fcbc-dc2413df0ea8"
      },
      "source": [
        "df_not_encode[(df_not_encode['BuildingArea']==0) & (df_not_encode['Landsize']==0) ]"
      ],
      "execution_count": null,
      "outputs": [
        {
          "output_type": "execute_result",
          "data": {
            "text/html": [
              "<div>\n",
              "<style scoped>\n",
              "    .dataframe tbody tr th:only-of-type {\n",
              "        vertical-align: middle;\n",
              "    }\n",
              "\n",
              "    .dataframe tbody tr th {\n",
              "        vertical-align: top;\n",
              "    }\n",
              "\n",
              "    .dataframe thead th {\n",
              "        text-align: right;\n",
              "    }\n",
              "</style>\n",
              "<table border=\"1\" class=\"dataframe\">\n",
              "  <thead>\n",
              "    <tr style=\"text-align: right;\">\n",
              "      <th></th>\n",
              "      <th>Rooms</th>\n",
              "      <th>Price</th>\n",
              "      <th>Distance</th>\n",
              "      <th>Bathroom</th>\n",
              "      <th>Car</th>\n",
              "      <th>Landsize</th>\n",
              "      <th>BuildingArea</th>\n",
              "      <th>Lattitude</th>\n",
              "      <th>Longtitude</th>\n",
              "      <th>Propertycount</th>\n",
              "      <th>Timestamp</th>\n",
              "    </tr>\n",
              "  </thead>\n",
              "  <tbody>\n",
              "  </tbody>\n",
              "</table>\n",
              "</div>"
            ],
            "text/plain": [
              "Empty DataFrame\n",
              "Columns: [Rooms, Price, Distance, Bathroom, Car, Landsize, BuildingArea, Lattitude, Longtitude, Propertycount, Timestamp]\n",
              "Index: []"
            ]
          },
          "metadata": {},
          "execution_count": 64
        }
      ]
    },
    {
      "cell_type": "code",
      "metadata": {
        "id": "hy8XMWZmozNE"
      },
      "source": [
        "df['BuildingArea'] = np.where(df['BuildingArea'] == 0, df['Landsize'], df['BuildingArea'])"
      ],
      "execution_count": null,
      "outputs": []
    },
    {
      "cell_type": "code",
      "metadata": {
        "colab": {
          "base_uri": "https://localhost:8080/",
          "height": 103
        },
        "id": "BYM_6Rzjo00t",
        "outputId": "dd6d52c4-784a-437e-acbc-0f7579ac90f4"
      },
      "source": [
        "df[(df['BuildingArea']==0) & (df['Rooms']>=1) ]"
      ],
      "execution_count": null,
      "outputs": [
        {
          "output_type": "execute_result",
          "data": {
            "text/html": [
              "<div>\n",
              "<style scoped>\n",
              "    .dataframe tbody tr th:only-of-type {\n",
              "        vertical-align: middle;\n",
              "    }\n",
              "\n",
              "    .dataframe tbody tr th {\n",
              "        vertical-align: top;\n",
              "    }\n",
              "\n",
              "    .dataframe thead th {\n",
              "        text-align: right;\n",
              "    }\n",
              "</style>\n",
              "<table border=\"1\" class=\"dataframe\">\n",
              "  <thead>\n",
              "    <tr style=\"text-align: right;\">\n",
              "      <th></th>\n",
              "      <th>Rooms</th>\n",
              "      <th>Price</th>\n",
              "      <th>Distance</th>\n",
              "      <th>Bathroom</th>\n",
              "      <th>Car</th>\n",
              "      <th>Landsize</th>\n",
              "      <th>BuildingArea</th>\n",
              "      <th>Lattitude</th>\n",
              "      <th>Longtitude</th>\n",
              "      <th>Propertycount</th>\n",
              "      <th>Timestamp</th>\n",
              "      <th>Type_h</th>\n",
              "      <th>Type_t</th>\n",
              "      <th>Type_u</th>\n",
              "      <th>Method_PI</th>\n",
              "      <th>Method_PN</th>\n",
              "      <th>Method_S</th>\n",
              "      <th>Method_SA</th>\n",
              "      <th>Method_SN</th>\n",
              "      <th>Method_SP</th>\n",
              "      <th>Method_SS</th>\n",
              "      <th>Method_VB</th>\n",
              "      <th>Method_W</th>\n",
              "      <th>Regionname_Eastern Metropolitan</th>\n",
              "      <th>Regionname_Eastern Victoria</th>\n",
              "      <th>Regionname_Northern Metropolitan</th>\n",
              "      <th>Regionname_Northern Victoria</th>\n",
              "      <th>Regionname_South-Eastern Metropolitan</th>\n",
              "      <th>Regionname_Southern Metropolitan</th>\n",
              "      <th>Regionname_Western Metropolitan</th>\n",
              "      <th>Regionname_Western Victoria</th>\n",
              "      <th>Historic_0</th>\n",
              "      <th>Historic_25</th>\n",
              "      <th>Historic_50</th>\n",
              "      <th>Historic_75</th>\n",
              "      <th>Historic_100</th>\n",
              "      <th>Historic_125</th>\n",
              "      <th>Historic_150</th>\n",
              "      <th>Historic_175</th>\n",
              "      <th>CouncilArea_Banyule City Council</th>\n",
              "      <th>CouncilArea_Bayside City Council</th>\n",
              "      <th>CouncilArea_Boroondara City Council</th>\n",
              "      <th>CouncilArea_Brimbank City Council</th>\n",
              "      <th>CouncilArea_Cardinia Shire Council</th>\n",
              "      <th>CouncilArea_Casey City Council</th>\n",
              "      <th>CouncilArea_Darebin City Council</th>\n",
              "      <th>CouncilArea_Frankston City Council</th>\n",
              "      <th>CouncilArea_Glen Eira City Council</th>\n",
              "      <th>CouncilArea_Greater Dandenong City Council</th>\n",
              "      <th>CouncilArea_Hobsons Bay City Council</th>\n",
              "      <th>CouncilArea_Hume City Council</th>\n",
              "      <th>CouncilArea_Kingston City Council</th>\n",
              "      <th>CouncilArea_Knox City Council</th>\n",
              "      <th>CouncilArea_Macedon Ranges Shire Council</th>\n",
              "      <th>CouncilArea_Manningham City Council</th>\n",
              "      <th>CouncilArea_Maribyrnong City Council</th>\n",
              "      <th>CouncilArea_Maroondah City Council</th>\n",
              "      <th>CouncilArea_Melbourne City Council</th>\n",
              "      <th>CouncilArea_Melton City Council</th>\n",
              "      <th>CouncilArea_Mitchell Shire Council</th>\n",
              "      <th>CouncilArea_Monash City Council</th>\n",
              "      <th>CouncilArea_Moonee Valley City Council</th>\n",
              "      <th>CouncilArea_Moorabool Shire Council</th>\n",
              "      <th>CouncilArea_Moreland City Council</th>\n",
              "      <th>CouncilArea_Nillumbik Shire Council</th>\n",
              "      <th>CouncilArea_Port Phillip City Council</th>\n",
              "      <th>CouncilArea_Stonnington City Council</th>\n",
              "      <th>CouncilArea_Whitehorse City Council</th>\n",
              "      <th>CouncilArea_Whittlesea City Council</th>\n",
              "      <th>CouncilArea_Wyndham City Council</th>\n",
              "      <th>CouncilArea_Yarra City Council</th>\n",
              "      <th>CouncilArea_Yarra Ranges Shire Council</th>\n",
              "      <th>SellerG_100 - 200</th>\n",
              "      <th>SellerG_200 - 500</th>\n",
              "      <th>SellerG_500 - 1000</th>\n",
              "      <th>SellerG_less than 100</th>\n",
              "      <th>SellerG_over 1000</th>\n",
              "    </tr>\n",
              "  </thead>\n",
              "  <tbody>\n",
              "  </tbody>\n",
              "</table>\n",
              "</div>"
            ],
            "text/plain": [
              "Empty DataFrame\n",
              "Columns: [Rooms, Price, Distance, Bathroom, Car, Landsize, BuildingArea, Lattitude, Longtitude, Propertycount, Timestamp, Type_h, Type_t, Type_u, Method_PI, Method_PN, Method_S, Method_SA, Method_SN, Method_SP, Method_SS, Method_VB, Method_W, Regionname_Eastern Metropolitan, Regionname_Eastern Victoria, Regionname_Northern Metropolitan, Regionname_Northern Victoria, Regionname_South-Eastern Metropolitan, Regionname_Southern Metropolitan, Regionname_Western Metropolitan, Regionname_Western Victoria, Historic_0, Historic_25, Historic_50, Historic_75, Historic_100, Historic_125, Historic_150, Historic_175, CouncilArea_Banyule City Council, CouncilArea_Bayside City Council, CouncilArea_Boroondara City Council, CouncilArea_Brimbank City Council, CouncilArea_Cardinia Shire Council, CouncilArea_Casey City Council, CouncilArea_Darebin City Council, CouncilArea_Frankston City Council, CouncilArea_Glen Eira City Council, CouncilArea_Greater Dandenong City Council, CouncilArea_Hobsons Bay City Council, CouncilArea_Hume City Council, CouncilArea_Kingston City Council, CouncilArea_Knox City Council, CouncilArea_Macedon Ranges Shire Council, CouncilArea_Manningham City Council, CouncilArea_Maribyrnong City Council, CouncilArea_Maroondah City Council, CouncilArea_Melbourne City Council, CouncilArea_Melton City Council, CouncilArea_Mitchell Shire Council, CouncilArea_Monash City Council, CouncilArea_Moonee Valley City Council, CouncilArea_Moorabool Shire Council, CouncilArea_Moreland City Council, CouncilArea_Nillumbik Shire Council, CouncilArea_Port Phillip City Council, CouncilArea_Stonnington City Council, CouncilArea_Whitehorse City Council, CouncilArea_Whittlesea City Council, CouncilArea_Wyndham City Council, CouncilArea_Yarra City Council, CouncilArea_Yarra Ranges Shire Council, SellerG_100 - 200, SellerG_200 - 500, SellerG_500 - 1000, SellerG_less than 100, SellerG_over 1000]\n",
              "Index: []"
            ]
          },
          "metadata": {},
          "execution_count": 66
        }
      ]
    },
    {
      "cell_type": "code",
      "metadata": {
        "id": "ADs3SMhQySJT"
      },
      "source": [
        "X = df.drop([\"Price\"], axis=1)\n",
        "y = df[\"Price\"]"
      ],
      "execution_count": null,
      "outputs": []
    },
    {
      "cell_type": "code",
      "metadata": {
        "id": "9fyVDTL5ySJU"
      },
      "source": [
        "X_train, X_test, y_train, y_test = train_test_split(X, y, test_size=0.2, random_state=2)"
      ],
      "execution_count": null,
      "outputs": []
    },
    {
      "cell_type": "code",
      "metadata": {
        "id": "6unmALBKqM8e"
      },
      "source": [
        "from sklearn import preprocessing\n",
        "from sklearn.tree import DecisionTreeRegressor"
      ],
      "execution_count": null,
      "outputs": []
    },
    {
      "cell_type": "code",
      "metadata": {
        "id": "sYuZPtgLpG2t"
      },
      "source": [
        "scaler = preprocessing.MinMaxScaler().fit(X_train)\n",
        "X_train = scaler.transform(X_train)\n",
        "X_test = scaler.transform(X_test)\n",
        "scaler = preprocessing.MinMaxScaler().fit(y_train.values.reshape(-1,1))\n",
        "y_train = scaler.transform(y_train.values.reshape(-1,1))\n",
        "y_test = scaler.transform(y_test.values.reshape(-1,1))"
      ],
      "execution_count": null,
      "outputs": []
    },
    {
      "cell_type": "code",
      "metadata": {
        "id": "IQVKAPb112ym"
      },
      "source": [
        "from sklearn.model_selection import GridSearchCV\n",
        "from sklearn.metrics import mean_squared_error\n",
        "from sklearn.metrics import mean_absolute_error"
      ],
      "execution_count": null,
      "outputs": []
    },
    {
      "cell_type": "code",
      "metadata": {
        "colab": {
          "base_uri": "https://localhost:8080/"
        },
        "id": "Ceh9nqLK1Msq",
        "outputId": "b7053e41-e9d4-48d5-911c-de2d7b418305"
      },
      "source": [
        "DTR_para = {'max_depth': [1,2,3,4,5,6,7,8,9,10,11,12,13,14,15,16,17,18,19,20],\n",
        "            'min_samples_leaf': [1,5,10,20,50]}\n",
        "print(GridSearchCV(DecisionTreeRegressor(), param_grid=DTR_para).fit(X_train, y_train).best_estimator_)"
      ],
      "execution_count": null,
      "outputs": [
        {
          "output_type": "stream",
          "name": "stdout",
          "text": [
            "DecisionTreeRegressor(ccp_alpha=0.0, criterion='mse', max_depth=20,\n",
            "                      max_features=None, max_leaf_nodes=None,\n",
            "                      min_impurity_decrease=0.0, min_impurity_split=None,\n",
            "                      min_samples_leaf=20, min_samples_split=2,\n",
            "                      min_weight_fraction_leaf=0.0, presort='deprecated',\n",
            "                      random_state=None, splitter='best')\n"
          ]
        }
      ]
    },
    {
      "cell_type": "code",
      "metadata": {
        "id": "68_w-8iTyxe3"
      },
      "source": [
        "max_depth = [1,5,10,20,30,50]\n",
        "\n",
        "train_error = []\n",
        "test_error = []\n",
        "\n",
        "for i in max_depth:\n",
        "  DTR = DecisionTreeRegressor(max_depth=i, min_samples_leaf=20, random_state=5)\n",
        "  DTR.fit(X_train, y_train)\n",
        "  train_error.append(np.sqrt(mean_squared_error(y_train, DTR.predict(X_train))))\n",
        "  test_error.append(np.sqrt(mean_squared_error(y_test, DTR.predict(X_test))))"
      ],
      "execution_count": null,
      "outputs": []
    },
    {
      "cell_type": "code",
      "metadata": {
        "colab": {
          "base_uri": "https://localhost:8080/",
          "height": 731
        },
        "id": "lGTszXR821dO",
        "outputId": "59796a52-e81b-4e56-c5cd-4797173b6cce"
      },
      "source": [
        "plt.figure(figsize=(15,10))\n",
        "plt.title('Decision Tree: Model Complexty vs RMSE', fontsize=30)\n",
        "plt.ylabel('RMSE', fontsize=20)\n",
        "plt.xlabel('Tree Depth', fontsize=20)\n",
        "sns.lineplot(max_depth, train_error, label='Train')\n",
        "sns.lineplot(max_depth, test_error, color='#ce1256', label='Test')\n",
        "plt.show()"
      ],
      "execution_count": null,
      "outputs": [
        {
          "output_type": "stream",
          "name": "stderr",
          "text": [
            "/usr/local/lib/python3.7/dist-packages/seaborn/_decorators.py:43: FutureWarning: Pass the following variables as keyword args: x, y. From version 0.12, the only valid positional argument will be `data`, and passing other arguments without an explicit keyword will result in an error or misinterpretation.\n",
            "  FutureWarning\n",
            "/usr/local/lib/python3.7/dist-packages/seaborn/_decorators.py:43: FutureWarning: Pass the following variables as keyword args: x, y. From version 0.12, the only valid positional argument will be `data`, and passing other arguments without an explicit keyword will result in an error or misinterpretation.\n",
            "  FutureWarning\n"
          ]
        },
        {
          "output_type": "display_data",
          "data": {
            "image/png": "[encoded data removed]",
            "text/plain": [
              "<Figure size 1080x720 with 1 Axes>"
            ]
          },
          "metadata": {
            "needs_background": "light"
          }
        }
      ]
    },
    {
      "cell_type": "code",
      "metadata": {
        "colab": {
          "base_uri": "https://localhost:8080/"
        },
        "id": "DpVmViZD3TZA",
        "outputId": "5a9a3245-836f-4837-9b09-1219f6c3a4d5"
      },
      "source": [
        "DTR = DecisionTreeRegressor(max_depth=30, min_samples_leaf=20, random_state=5)\n",
        "DTR.fit(X_train, y_train)"
      ],
      "execution_count": null,
      "outputs": [
        {
          "output_type": "execute_result",
          "data": {
            "text/plain": [
              "DecisionTreeRegressor(ccp_alpha=0.0, criterion='mse', max_depth=30,\n",
              "                      max_features=None, max_leaf_nodes=None,\n",
              "                      min_impurity_decrease=0.0, min_impurity_split=None,\n",
              "                      min_samples_leaf=20, min_samples_split=2,\n",
              "                      min_weight_fraction_leaf=0.0, presort='deprecated',\n",
              "                      random_state=5, splitter='best')"
            ]
          },
          "metadata": {},
          "execution_count": 79
        }
      ]
    },
    {
      "cell_type": "code",
      "metadata": {
        "colab": {
          "base_uri": "https://localhost:8080/"
        },
        "id": "XGIBD5Sr3yLD",
        "outputId": "dc68b46e-3eca-445d-d97a-00bccaf541d9"
      },
      "source": [
        "#train set\n",
        "print('MAE: {:>0.11f}'.format(mean_absolute_error(y_train, DTR.predict(X_train))))\n",
        "print('\\nMSE: {:>0.11f}'.format(mean_squared_error(y_train, DTR.predict(X_train))))\n",
        "print('\\nRMSE: {:>0.11f}'.format(np.sqrt(mean_squared_error(y_train, DTR.predict(X_train)))))\n",
        "print('\\nR^2: {:>0.11f}'.format(DTR.score(X_train, y_train)))"
      ],
      "execution_count": null,
      "outputs": [
        {
          "output_type": "stream",
          "name": "stdout",
          "text": [
            "MAE: 0.01536894909\n",
            "\n",
            "MSE: 0.00072841082\n",
            "\n",
            "RMSE: 0.02698908704\n",
            "\n",
            "R^2: 0.78303373128\n"
          ]
        }
      ]
    },
    {
      "cell_type": "code",
      "metadata": {
        "colab": {
          "base_uri": "https://localhost:8080/"
        },
        "id": "WQC5U7cz4WLl",
        "outputId": "d0ba003e-02ba-47d7-819d-08ecc77930e6"
      },
      "source": [
        "#test set\n",
        "print('MAE: {:>0.11f}'.format(mean_absolute_error(y_test, DTR.predict(X_test))))\n",
        "print('\\nMSE: {:>0.11f}'.format(mean_squared_error(y_test, DTR.predict(X_test))))\n",
        "print('\\nRMSE: {:>0.11f}'.format(np.sqrt(mean_squared_error(y_test, DTR.predict(X_test)))))\n",
        "print('\\nR^2: {:>0.11f}'.format(DTR.score(X_test, y_test)))"
      ],
      "execution_count": null,
      "outputs": [
        {
          "output_type": "stream",
          "name": "stdout",
          "text": [
            "MAE: 0.01749309387\n",
            "\n",
            "MSE: 0.00085380329\n",
            "\n",
            "RMSE: 0.02921991248\n",
            "\n",
            "R^2: 0.74174797751\n"
          ]
        }
      ]
    },
    {
      "cell_type": "code",
      "metadata": {
        "colab": {
          "base_uri": "https://localhost:8080/"
        },
        "id": "kj6VHP4m7nay",
        "outputId": "5d31e567-4686-4958-ff2d-8f9073bc7947"
      },
      "source": [
        "print('Model Evaluation:')\n",
        "print('-'*50)\n",
        "print('{} {:>17}'.format('Statistic', 'Decision Tree'))\n",
        "print('-'*50)\n",
        "print('{} {:>18.11f}'.format('MAE Test', mean_absolute_error(y_test, DTR.predict(X_test))))\n",
        "print('{} {:>18.11f}'.format('MSE Test', mean_squared_error(y_test, DTR.predict(X_test))))\n",
        "print('{} {:>17.11f}'.format('RMSE Test', np.sqrt(mean_squared_error(y_test, DTR.predict(X_test)))))\n",
        "print('{} {:>18.11f}'.format('R^2 Test', DTR.score(X_test, y_test)))\n"
      ],
      "execution_count": null,
      "outputs": [
        {
          "output_type": "stream",
          "name": "stdout",
          "text": [
            "Model Evaluation:\n",
            "--------------------------------------------------\n",
            "Statistic     Decision Tree\n",
            "--------------------------------------------------\n",
            "MAE Test      0.01749309387\n",
            "MSE Test      0.00085380329\n",
            "RMSE Test     0.02921991248\n",
            "R^2 Test      0.74174797751\n"
          ]
        }
      ]
    }
  ]
}